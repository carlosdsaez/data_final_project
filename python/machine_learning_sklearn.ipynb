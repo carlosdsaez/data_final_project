{
 "cells": [
  {
   "cell_type": "code",
   "execution_count": 45,
   "metadata": {},
   "outputs": [],
   "source": [
    "%matplotlib inline\n",
    "\n",
    "import numpy as np\n",
    "import pandas as pd\n",
    "import seaborn as sns\n",
    "import matplotlib.pyplot as plt\n",
    "from sklearn.model_selection import train_test_split, cross_val_score, GridSearchCV, RandomizedSearchCV \n",
    "from sklearn.linear_model import LogisticRegression\n",
    "from sklearn.neighbors import KNeighborsClassifier\n",
    "from sklearn.metrics import accuracy_score, mean_absolute_error\n",
    "from sklearn import preprocessing\n",
    "import warnings\n",
    "warnings.filterwarnings('ignore')"
   ]
  },
  {
   "cell_type": "code",
   "execution_count": 12,
   "metadata": {},
   "outputs": [],
   "source": [
    "df = pd.read_csv('data_wrangled.csv')"
   ]
  },
  {
   "cell_type": "code",
   "execution_count": 13,
   "metadata": {},
   "outputs": [
    {
     "data": {
      "text/html": [
       "<div>\n",
       "<style scoped>\n",
       "    .dataframe tbody tr th:only-of-type {\n",
       "        vertical-align: middle;\n",
       "    }\n",
       "\n",
       "    .dataframe tbody tr th {\n",
       "        vertical-align: top;\n",
       "    }\n",
       "\n",
       "    .dataframe thead th {\n",
       "        text-align: right;\n",
       "    }\n",
       "</style>\n",
       "<table border=\"1\" class=\"dataframe\">\n",
       "  <thead>\n",
       "    <tr style=\"text-align: right;\">\n",
       "      <th></th>\n",
       "      <th>bathrooms</th>\n",
       "      <th>floor</th>\n",
       "      <th>price</th>\n",
       "      <th>price_m2</th>\n",
       "      <th>rooms</th>\n",
       "      <th>size</th>\n",
       "      <th>latitude</th>\n",
       "      <th>longitude</th>\n",
       "      <th>floor_was_missing</th>\n",
       "      <th>price_cut</th>\n",
       "    </tr>\n",
       "  </thead>\n",
       "  <tbody>\n",
       "    <tr>\n",
       "      <th>0</th>\n",
       "      <td>1.0</td>\n",
       "      <td>4.000000</td>\n",
       "      <td>226000.0</td>\n",
       "      <td>2897.0</td>\n",
       "      <td>2.0</td>\n",
       "      <td>78.0</td>\n",
       "      <td>40.430409</td>\n",
       "      <td>-3.557889</td>\n",
       "      <td>False</td>\n",
       "      <td>(209000.0, 230000.0]</td>\n",
       "    </tr>\n",
       "    <tr>\n",
       "      <th>1</th>\n",
       "      <td>1.0</td>\n",
       "      <td>0.000000</td>\n",
       "      <td>98500.0</td>\n",
       "      <td>1790.0</td>\n",
       "      <td>2.0</td>\n",
       "      <td>55.0</td>\n",
       "      <td>40.423733</td>\n",
       "      <td>-3.561187</td>\n",
       "      <td>False</td>\n",
       "      <td>(93000.0, 110000.0]</td>\n",
       "    </tr>\n",
       "    <tr>\n",
       "      <th>2</th>\n",
       "      <td>1.0</td>\n",
       "      <td>2.420332</td>\n",
       "      <td>129000.0</td>\n",
       "      <td>1842.0</td>\n",
       "      <td>3.0</td>\n",
       "      <td>70.0</td>\n",
       "      <td>40.430736</td>\n",
       "      <td>-3.635022</td>\n",
       "      <td>True</td>\n",
       "      <td>(124000.0, 133900.0]</td>\n",
       "    </tr>\n",
       "    <tr>\n",
       "      <th>3</th>\n",
       "      <td>1.0</td>\n",
       "      <td>2.420332</td>\n",
       "      <td>220000.0</td>\n",
       "      <td>3098.0</td>\n",
       "      <td>3.0</td>\n",
       "      <td>71.0</td>\n",
       "      <td>40.384267</td>\n",
       "      <td>-3.663003</td>\n",
       "      <td>True</td>\n",
       "      <td>(209000.0, 230000.0]</td>\n",
       "    </tr>\n",
       "    <tr>\n",
       "      <th>4</th>\n",
       "      <td>1.0</td>\n",
       "      <td>0.000000</td>\n",
       "      <td>148000.0</td>\n",
       "      <td>2144.0</td>\n",
       "      <td>2.0</td>\n",
       "      <td>69.0</td>\n",
       "      <td>40.343037</td>\n",
       "      <td>-3.708971</td>\n",
       "      <td>False</td>\n",
       "      <td>(143417.5, 155000.0]</td>\n",
       "    </tr>\n",
       "  </tbody>\n",
       "</table>\n",
       "</div>"
      ],
      "text/plain": [
       "   bathrooms     floor     price  price_m2  rooms  size   latitude  longitude  \\\n",
       "0        1.0  4.000000  226000.0    2897.0    2.0  78.0  40.430409  -3.557889   \n",
       "1        1.0  0.000000   98500.0    1790.0    2.0  55.0  40.423733  -3.561187   \n",
       "2        1.0  2.420332  129000.0    1842.0    3.0  70.0  40.430736  -3.635022   \n",
       "3        1.0  2.420332  220000.0    3098.0    3.0  71.0  40.384267  -3.663003   \n",
       "4        1.0  0.000000  148000.0    2144.0    2.0  69.0  40.343037  -3.708971   \n",
       "\n",
       "   floor_was_missing             price_cut  \n",
       "0              False  (209000.0, 230000.0]  \n",
       "1              False   (93000.0, 110000.0]  \n",
       "2               True  (124000.0, 133900.0]  \n",
       "3               True  (209000.0, 230000.0]  \n",
       "4              False  (143417.5, 155000.0]  "
      ]
     },
     "execution_count": 13,
     "metadata": {},
     "output_type": "execute_result"
    }
   ],
   "source": [
    "df.head()"
   ]
  },
  {
   "cell_type": "markdown",
   "metadata": {},
   "source": [
    "# Data preprocessing"
   ]
  },
  {
   "cell_type": "code",
   "execution_count": 14,
   "metadata": {},
   "outputs": [],
   "source": [
    "#Eliminamos 'price_m2' para evitar el leakage\n",
    "df_sk = df.drop(['price_m2', 'price_cut'], axis = 1)"
   ]
  },
  {
   "cell_type": "code",
   "execution_count": 15,
   "metadata": {},
   "outputs": [
    {
     "name": "stdout",
     "output_type": "stream",
     "text": [
      "11509 11494\n"
     ]
    }
   ],
   "source": [
    "before = len(df_sk)\n",
    "df_sk = df_sk.drop_duplicates()\n",
    "after = len(df_sk)\n",
    "print(before, after)"
   ]
  },
  {
   "cell_type": "markdown",
   "metadata": {},
   "source": [
    "Seleccionamos las columnas que representan las features y la columna que representa el target (precio):"
   ]
  },
  {
   "cell_type": "code",
   "execution_count": 70,
   "metadata": {},
   "outputs": [],
   "source": [
    "X = df_sk.drop('price', axis = 1)\n",
    "y = df_sk['price']"
   ]
  },
  {
   "cell_type": "code",
   "execution_count": 71,
   "metadata": {},
   "outputs": [],
   "source": [
    "X['floor_was_missing'] = X['floor_was_missing'].apply(lambda x: 1 if x else 0)"
   ]
  },
  {
   "cell_type": "code",
   "execution_count": 72,
   "metadata": {},
   "outputs": [],
   "source": [
    "min_max_scaler = preprocessing.MinMaxScaler()\n",
    "X_scaled = min_max_scaler.fit_transform(X)\n",
    "train_X, val_X, train_y, val_y = train_test_split(X_scaled, y, test_size=0.2)"
   ]
  },
  {
   "cell_type": "markdown",
   "metadata": {},
   "source": [
    "# Modeling and Evaluation"
   ]
  },
  {
   "cell_type": "code",
   "execution_count": 21,
   "metadata": {},
   "outputs": [],
   "source": [
    "# Definición del error cuadrático medio\n",
    "def rmse_cv(model, X, y):\n",
    "    rmse = np.sqrt(-cross_val_score(model, X, y, scoring = \"neg_mean_squared_error\", cv=5))\n",
    "    return rmse"
   ]
  },
  {
   "cell_type": "markdown",
   "metadata": {},
   "source": [
    "#Escogemos 10 modelos:\n"
   ]
  },
  {
   "cell_type": "code",
   "execution_count": 63,
   "metadata": {},
   "outputs": [],
   "source": [
    "from sklearn.linear_model import LinearRegression, Lasso, SGDRegressor, Ridge\n",
    "from sklearn.ensemble import ExtraTreesRegressor, GradientBoostingRegressor, RandomForestRegressor\n",
    "from sklearn.svm import SVR\n",
    "from xgboost import XGBRegressor\n",
    "\n",
    "models = [LinearRegression(),\n",
    "             Ridge(),\n",
    "             Lasso(alpha=0.01, max_iter=10000),\n",
    "             RandomForestRegressor(max_depth= 25, min_samples_split= 5, n_estimators= 600),\n",
    "             GradientBoostingRegressor(),\n",
    "             SVR(),\n",
    "             SGDRegressor(max_iter=1000, tol = 1e-3),\n",
    "             ExtraTreesRegressor(),\n",
    "             XGBRegressor()\n",
    "         ]\n",
    "\n",
    "names = ['LR','Ridge','Lasso','RF','GBR','SVR','SGDR','XTreeR', 'XGBR']                    "
   ]
  },
  {
   "cell_type": "code",
   "execution_count": 64,
   "metadata": {},
   "outputs": [
    {
     "name": "stdout",
     "output_type": "stream",
     "text": [
      "LR: 0.596227, 0.140617\n",
      "Ridge: 0.522746, 0.026838\n",
      "Lasso: 0.559382, 0.027774\n",
      "RF: 0.268781, 0.030383\n",
      "GBR: 0.289523, 0.024935\n",
      "SVR: 0.455645, 0.026515\n",
      "SGDR: 0.580483, 0.026295\n",
      "XTreeR: 0.288868, 0.027658\n",
      "[05:11:40] WARNING: src/objective/regression_obj.cu:152: reg:linear is now deprecated in favor of reg:squarederror.\n",
      "[05:11:41] WARNING: src/objective/regression_obj.cu:152: reg:linear is now deprecated in favor of reg:squarederror.\n",
      "[05:11:41] WARNING: src/objective/regression_obj.cu:152: reg:linear is now deprecated in favor of reg:squarederror.\n",
      "[05:11:42] WARNING: src/objective/regression_obj.cu:152: reg:linear is now deprecated in favor of reg:squarederror.\n",
      "[05:11:42] WARNING: src/objective/regression_obj.cu:152: reg:linear is now deprecated in favor of reg:squarederror.\n",
      "XGBR: 0.290249, 0.023919\n"
     ]
    }
   ],
   "source": [
    "for model,name in zip(models,names):\n",
    "    score = rmse_cv(model, X_scaled, y_log)\n",
    "    print(\"{}: {:.6f}, {:4f}\".format(name,score.mean(),score.std()))"
   ]
  },
  {
   "cell_type": "code",
   "execution_count": 57,
   "metadata": {},
   "outputs": [],
   "source": [
    "#Función grid para la ejecución de grid search\n",
    "\n",
    "def grid_get(model, X, y, param_grid):\n",
    "    grid_search = GridSearchCV(model, param_grid, cv = 5)\n",
    "    grid_search.fit(X, y)\n",
    "    print('Best score and params: ', grid_search.best_score_, grid_search.best_params_ )\n",
    "    print(pd.DataFrame(grid_search.cv_results_)[['params','mean_test_score','std_test_score']])\n",
    "    '''\n",
    "    print(grid_search.best_params_, np.sqrt(-grid_search.best_score_))\n",
    "    grid_search.cv_results_['mean_test_score'] = np.sqrt(-grid_search.cv_results_['mean_test_score'])\n",
    "    print(pd.DataFrame(grid_search.cv_results_)[['params','mean_test_score','std_test_score']])\n",
    "    '''"
   ]
  },
  {
   "cell_type": "code",
   "execution_count": 56,
   "metadata": {},
   "outputs": [
    {
     "name": "stdout",
     "output_type": "stream",
     "text": [
      "Best score and params:  0.5160902333052514 {'alpha': 0.0009, 'max_iter': 10000}\n",
      "                                 params  mean_test_score  std_test_score\n",
      "0    {'alpha': 0.01, 'max_iter': 10000}         0.452732        0.047244\n",
      "1   {'alpha': 0.001, 'max_iter': 10000}         0.515564        0.059775\n",
      "2  {'alpha': 0.0001, 'max_iter': 10000}         0.371149        0.306194\n",
      "3  {'alpha': 0.0002, 'max_iter': 10000}         0.411509        0.224689\n",
      "4  {'alpha': 0.0003, 'max_iter': 10000}         0.445326        0.157536\n",
      "5  {'alpha': 0.0004, 'max_iter': 10000}         0.472596        0.106184\n",
      "6  {'alpha': 0.0005, 'max_iter': 10000}         0.493319        0.073310\n",
      "7  {'alpha': 0.0006, 'max_iter': 10000}         0.507506        0.060244\n",
      "8  {'alpha': 0.0007, 'max_iter': 10000}         0.515148        0.059634\n",
      "9  {'alpha': 0.0009, 'max_iter': 10000}         0.516090        0.060245\n"
     ]
    }
   ],
   "source": [
    "#Grid search para modelo Lasso\n",
    "grid_get(Lasso(), X_scaled, y_log, \n",
    "         {\n",
    "             'alpha':[0.01,0.001,0.0001,0.0002,0.0003,0.0004,0.0005,0.0006,0.0007,0.0009], \n",
    "             'max_iter':[10000]\n",
    "         })"
   ]
  },
  {
   "cell_type": "code",
   "execution_count": 58,
   "metadata": {},
   "outputs": [
    {
     "name": "stdout",
     "output_type": "stream",
     "text": [
      "Best score and params:  0.48951783504307617 {'alpha': 10, 'max_iter': 10000}\n",
      "                               params  mean_test_score  std_test_score\n",
      "0    {'alpha': 10, 'max_iter': 10000}         0.489518        0.047090\n",
      "1    {'alpha': 20, 'max_iter': 10000}         0.450273        0.039640\n",
      "2    {'alpha': 25, 'max_iter': 10000}         0.432654        0.037068\n",
      "3    {'alpha': 30, 'max_iter': 10000}         0.416275        0.034972\n",
      "4    {'alpha': 35, 'max_iter': 10000}         0.401008        0.033245\n",
      "5    {'alpha': 40, 'max_iter': 10000}         0.386737        0.031814\n",
      "6    {'alpha': 45, 'max_iter': 10000}         0.373365        0.030624\n",
      "7    {'alpha': 50, 'max_iter': 10000}         0.360809        0.029633\n",
      "8    {'alpha': 55, 'max_iter': 10000}         0.348995        0.028808\n",
      "9    {'alpha': 57, 'max_iter': 10000}         0.344463        0.028517\n",
      "10   {'alpha': 60, 'max_iter': 10000}         0.337861        0.028119\n",
      "11   {'alpha': 65, 'max_iter': 10000}         0.327350        0.027544\n",
      "12   {'alpha': 70, 'max_iter': 10000}         0.317413        0.027065\n",
      "13   {'alpha': 75, 'max_iter': 10000}         0.308004        0.026665\n",
      "14   {'alpha': 80, 'max_iter': 10000}         0.299085        0.026332\n",
      "15  {'alpha': 100, 'max_iter': 10000}         0.267619        0.025472\n"
     ]
    }
   ],
   "source": [
    "#Grid search Ridge\n",
    "grid_get(Ridge(), X_scaled,y_log,\n",
    "                       {\n",
    "                           'alpha':[10,20,25,30,35,40,45,50,55,57,60,65,70,75,80,100],\n",
    "                           'max_iter':[10000]\n",
    "                       })"
   ]
  },
  {
   "cell_type": "code",
   "execution_count": 41,
   "metadata": {},
   "outputs": [
    {
     "name": "stdout",
     "output_type": "stream",
     "text": [
      "{'C': 15, 'epsilon': 0.008, 'gamma': 0.0004, 'kernel': 'rbf'} 0.644659288782284\n",
      "                                               params  mean_test_score  \\\n",
      "0   {'C': 11, 'epsilon': 0.008, 'gamma': 0.0003, '...         0.691794   \n",
      "1   {'C': 11, 'epsilon': 0.008, 'gamma': 0.0004, '...         0.669699   \n",
      "2   {'C': 11, 'epsilon': 0.009, 'gamma': 0.0003, '...         0.691751   \n",
      "3   {'C': 11, 'epsilon': 0.009, 'gamma': 0.0004, '...         0.669706   \n",
      "4   {'C': 13, 'epsilon': 0.008, 'gamma': 0.0003, '...         0.679264   \n",
      "5   {'C': 13, 'epsilon': 0.008, 'gamma': 0.0004, '...         0.656462   \n",
      "6   {'C': 13, 'epsilon': 0.009, 'gamma': 0.0003, '...         0.679231   \n",
      "7   {'C': 13, 'epsilon': 0.009, 'gamma': 0.0004, '...         0.656453   \n",
      "8   {'C': 15, 'epsilon': 0.008, 'gamma': 0.0003, '...         0.668000   \n",
      "9   {'C': 15, 'epsilon': 0.008, 'gamma': 0.0004, '...         0.644659   \n",
      "10  {'C': 15, 'epsilon': 0.009, 'gamma': 0.0003, '...         0.667919   \n",
      "11  {'C': 15, 'epsilon': 0.009, 'gamma': 0.0004, '...         0.644720   \n",
      "\n",
      "    std_test_score  \n",
      "0         0.094205  \n",
      "1         0.085255  \n",
      "2         0.094233  \n",
      "3         0.085100  \n",
      "4         0.089549  \n",
      "5         0.078777  \n",
      "6         0.089557  \n",
      "7         0.078919  \n",
      "8         0.084527  \n",
      "9         0.075301  \n",
      "10        0.084411  \n",
      "11        0.075402  \n"
     ]
    }
   ],
   "source": [
    "grid_get(SVR(), X_scaled,y_log, {\n",
    "    'C':[11,13,15], \n",
    "    'kernel':[\"rbf\"], \n",
    "    'gamma':[0.0003,0.0005],\n",
    "    'epsilon':[0.006,0.009]\n",
    "})"
   ]
  },
  {
   "cell_type": "code",
   "execution_count": 60,
   "metadata": {},
   "outputs": [
    {
     "name": "stdout",
     "output_type": "stream",
     "text": [
      "Best score and params:  0.8711922557316767 {'max_depth': 25, 'min_samples_split': 5, 'n_estimators': 600}\n",
      "                                               params  mean_test_score  \\\n",
      "0   {'max_depth': 2, 'min_samples_split': 2, 'n_es...         0.546764   \n",
      "1   {'max_depth': 2, 'min_samples_split': 2, 'n_es...         0.546983   \n",
      "2   {'max_depth': 2, 'min_samples_split': 2, 'n_es...         0.548417   \n",
      "3   {'max_depth': 2, 'min_samples_split': 5, 'n_es...         0.547535   \n",
      "4   {'max_depth': 2, 'min_samples_split': 5, 'n_es...         0.547203   \n",
      "5   {'max_depth': 2, 'min_samples_split': 5, 'n_es...         0.546717   \n",
      "6   {'max_depth': 5, 'min_samples_split': 2, 'n_es...         0.771629   \n",
      "7   {'max_depth': 5, 'min_samples_split': 2, 'n_es...         0.771873   \n",
      "8   {'max_depth': 5, 'min_samples_split': 2, 'n_es...         0.771780   \n",
      "9   {'max_depth': 5, 'min_samples_split': 5, 'n_es...         0.771985   \n",
      "10  {'max_depth': 5, 'min_samples_split': 5, 'n_es...         0.771897   \n",
      "11  {'max_depth': 5, 'min_samples_split': 5, 'n_es...         0.772113   \n",
      "12  {'max_depth': 10, 'min_samples_split': 2, 'n_e...         0.857153   \n",
      "13  {'max_depth': 10, 'min_samples_split': 2, 'n_e...         0.857833   \n",
      "14  {'max_depth': 10, 'min_samples_split': 2, 'n_e...         0.857698   \n",
      "15  {'max_depth': 10, 'min_samples_split': 5, 'n_e...         0.857668   \n",
      "16  {'max_depth': 10, 'min_samples_split': 5, 'n_e...         0.857548   \n",
      "17  {'max_depth': 10, 'min_samples_split': 5, 'n_e...         0.857696   \n",
      "18  {'max_depth': 25, 'min_samples_split': 2, 'n_e...         0.870310   \n",
      "19  {'max_depth': 25, 'min_samples_split': 2, 'n_e...         0.870519   \n",
      "20  {'max_depth': 25, 'min_samples_split': 2, 'n_e...         0.870620   \n",
      "21  {'max_depth': 25, 'min_samples_split': 5, 'n_e...         0.871133   \n",
      "22  {'max_depth': 25, 'min_samples_split': 5, 'n_e...         0.871192   \n",
      "23  {'max_depth': 25, 'min_samples_split': 5, 'n_e...         0.870929   \n",
      "\n",
      "    std_test_score  \n",
      "0         0.062377  \n",
      "1         0.061289  \n",
      "2         0.061221  \n",
      "3         0.060881  \n",
      "4         0.061353  \n",
      "5         0.061415  \n",
      "6         0.032970  \n",
      "7         0.033351  \n",
      "8         0.033029  \n",
      "9         0.033178  \n",
      "10        0.033212  \n",
      "11        0.033047  \n",
      "12        0.030006  \n",
      "13        0.029570  \n",
      "14        0.029564  \n",
      "15        0.029631  \n",
      "16        0.029756  \n",
      "17        0.029726  \n",
      "18        0.033753  \n",
      "19        0.033596  \n",
      "20        0.033843  \n",
      "21        0.033757  \n",
      "22        0.033717  \n",
      "23        0.033725  \n"
     ]
    }
   ],
   "source": [
    "grid_get(RandomForestRegressor(), X_scaled, y_log, {\n",
    "    'n_estimators': [300, 600, 1000], \n",
    "    'max_depth':[2, 5, 10, 25], \n",
    "    'min_samples_split': [2, 5]\n",
    "})"
   ]
  },
  {
   "cell_type": "markdown",
   "metadata": {},
   "source": [
    "# MODELO FINAL: RANDOM FOREST"
   ]
  },
  {
   "cell_type": "code",
   "execution_count": 73,
   "metadata": {},
   "outputs": [
    {
     "name": "stdout",
     "output_type": "stream",
     "text": [
      "[05:23:47] WARNING: src/objective/regression_obj.cu:152: reg:linear is now deprecated in favor of reg:squarederror.\n"
     ]
    }
   ],
   "source": [
    "modelo_final = RandomForestRegressor(max_depth= 25, min_samples_split= 5, n_estimators= 600)\n",
    "modelo_final_fit = model.fit(train_X, train_y)"
   ]
  },
  {
   "cell_type": "code",
   "execution_count": 92,
   "metadata": {},
   "outputs": [
    {
     "name": "stdout",
     "output_type": "stream",
     "text": [
      "<class 'numpy.ndarray'>\n"
     ]
    }
   ],
   "source": [
    "#imput = np.array([[1, 1, 3, 72, 40.3845857, -3.7820604, 0], [2, 1, 3, 84, 40.4421587, -3.5646838, 0]])\n",
    "#https://www.pisos.com/comprar/piso-las_aguilas28024-95018871320_100500/\n",
    "#209.000\n",
    "size = 72\n",
    "rooms = 3\n",
    "baths = 1\n",
    "floor = 1\n",
    "\n",
    "#https://www.pisos.com/comprar/piso-el_canaveral-9389221662_109700/\n",
    "#240000\n",
    "size = 84\n",
    "rooms = 3\n",
    "baths = 2\n",
    "floor = 1\n",
    "#40.4421587,-3.5646838\n",
    "\n",
    "input1 = np.array([[1, 1, 3, 72, 40.3845857, -3.7820604, 0], [2, 1, 3, 84, 40.4421587, -3.5646838, 0]])\n",
    "print(type(input1))\n"
   ]
  },
  {
   "cell_type": "code",
   "execution_count": 93,
   "metadata": {},
   "outputs": [],
   "source": [
    "min_max_scaler = preprocessing.MinMaxScaler()\n",
    "input_scaled = min_max_scaler.fit(X).transform(input1)"
   ]
  },
  {
   "cell_type": "code",
   "execution_count": 94,
   "metadata": {},
   "outputs": [
    {
     "name": "stdout",
     "output_type": "stream",
     "text": [
      "[133172.7  219072.64]\n"
     ]
    }
   ],
   "source": [
    "prices_estimated = modelo_final_fit.predict(input_scaled)\n",
    "print(prices_estimated)"
   ]
  },
  {
   "cell_type": "code",
   "execution_count": null,
   "metadata": {},
   "outputs": [],
   "source": []
  }
 ],
 "metadata": {
  "kernelspec": {
   "display_name": "Python 3",
   "language": "python",
   "name": "python3"
  },
  "language_info": {
   "codemirror_mode": {
    "name": "ipython",
    "version": 3
   },
   "file_extension": ".py",
   "mimetype": "text/x-python",
   "name": "python",
   "nbconvert_exporter": "python",
   "pygments_lexer": "ipython3",
   "version": "3.7.3"
  }
 },
 "nbformat": 4,
 "nbformat_minor": 2
}
