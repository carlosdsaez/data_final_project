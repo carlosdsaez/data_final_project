{
 "cells": [
  {
   "cell_type": "code",
   "execution_count": 73,
   "metadata": {},
   "outputs": [],
   "source": [
    "import pandas as pd\n",
    "import numpy as np\n",
    "import tensorflow\n",
    "import keras\n",
    "from sklearn import preprocessing\n",
    "from sklearn.model_selection import train_test_split\n",
    "from keras.models import Sequential\n",
    "from keras.layers import Dense\n",
    "import matplotlib.pyplot as plt"
   ]
  },
  {
   "cell_type": "code",
   "execution_count": null,
   "metadata": {},
   "outputs": [],
   "source": []
  },
  {
   "cell_type": "code",
   "execution_count": 15,
   "metadata": {},
   "outputs": [],
   "source": [
    "df = pd.read_csv('data_wrangled.csv', index_col = False)"
   ]
  },
  {
   "cell_type": "code",
   "execution_count": 19,
   "metadata": {},
   "outputs": [
    {
     "data": {
      "text/html": [
       "<div>\n",
       "<style scoped>\n",
       "    .dataframe tbody tr th:only-of-type {\n",
       "        vertical-align: middle;\n",
       "    }\n",
       "\n",
       "    .dataframe tbody tr th {\n",
       "        vertical-align: top;\n",
       "    }\n",
       "\n",
       "    .dataframe thead th {\n",
       "        text-align: right;\n",
       "    }\n",
       "</style>\n",
       "<table border=\"1\" class=\"dataframe\">\n",
       "  <thead>\n",
       "    <tr style=\"text-align: right;\">\n",
       "      <th></th>\n",
       "      <th>bathrooms</th>\n",
       "      <th>floor</th>\n",
       "      <th>price</th>\n",
       "      <th>price_m2</th>\n",
       "      <th>rooms</th>\n",
       "      <th>size</th>\n",
       "      <th>latitude</th>\n",
       "      <th>longitude</th>\n",
       "    </tr>\n",
       "  </thead>\n",
       "  <tbody>\n",
       "    <tr>\n",
       "      <th>0</th>\n",
       "      <td>1.0</td>\n",
       "      <td>4.000000</td>\n",
       "      <td>226000.0</td>\n",
       "      <td>2897.0</td>\n",
       "      <td>2.0</td>\n",
       "      <td>78.0</td>\n",
       "      <td>40.430409</td>\n",
       "      <td>-3.557889</td>\n",
       "    </tr>\n",
       "    <tr>\n",
       "      <th>1</th>\n",
       "      <td>1.0</td>\n",
       "      <td>0.000000</td>\n",
       "      <td>98500.0</td>\n",
       "      <td>1790.0</td>\n",
       "      <td>2.0</td>\n",
       "      <td>55.0</td>\n",
       "      <td>40.423733</td>\n",
       "      <td>-3.561187</td>\n",
       "    </tr>\n",
       "    <tr>\n",
       "      <th>2</th>\n",
       "      <td>1.0</td>\n",
       "      <td>2.420332</td>\n",
       "      <td>129000.0</td>\n",
       "      <td>1842.0</td>\n",
       "      <td>3.0</td>\n",
       "      <td>70.0</td>\n",
       "      <td>40.430736</td>\n",
       "      <td>-3.635022</td>\n",
       "    </tr>\n",
       "    <tr>\n",
       "      <th>3</th>\n",
       "      <td>1.0</td>\n",
       "      <td>2.420332</td>\n",
       "      <td>220000.0</td>\n",
       "      <td>3098.0</td>\n",
       "      <td>3.0</td>\n",
       "      <td>71.0</td>\n",
       "      <td>40.384267</td>\n",
       "      <td>-3.663003</td>\n",
       "    </tr>\n",
       "    <tr>\n",
       "      <th>4</th>\n",
       "      <td>1.0</td>\n",
       "      <td>0.000000</td>\n",
       "      <td>148000.0</td>\n",
       "      <td>2144.0</td>\n",
       "      <td>2.0</td>\n",
       "      <td>69.0</td>\n",
       "      <td>40.343037</td>\n",
       "      <td>-3.708971</td>\n",
       "    </tr>\n",
       "  </tbody>\n",
       "</table>\n",
       "</div>"
      ],
      "text/plain": [
       "   bathrooms     floor     price  price_m2  rooms  size   latitude  longitude\n",
       "0        1.0  4.000000  226000.0    2897.0    2.0  78.0  40.430409  -3.557889\n",
       "1        1.0  0.000000   98500.0    1790.0    2.0  55.0  40.423733  -3.561187\n",
       "2        1.0  2.420332  129000.0    1842.0    3.0  70.0  40.430736  -3.635022\n",
       "3        1.0  2.420332  220000.0    3098.0    3.0  71.0  40.384267  -3.663003\n",
       "4        1.0  0.000000  148000.0    2144.0    2.0  69.0  40.343037  -3.708971"
      ]
     },
     "execution_count": 19,
     "metadata": {},
     "output_type": "execute_result"
    }
   ],
   "source": [
    "df.head()"
   ]
  },
  {
   "cell_type": "code",
   "execution_count": 39,
   "metadata": {},
   "outputs": [],
   "source": [
    "df_neural = df.drop(['floor_was_missing', 'price_cut', 'index', 'price_m2'], axis = 1)"
   ]
  },
  {
   "cell_type": "code",
   "execution_count": 43,
   "metadata": {},
   "outputs": [],
   "source": [
    "dataset = df_neural.values"
   ]
  },
  {
   "cell_type": "code",
   "execution_count": 44,
   "metadata": {},
   "outputs": [
    {
     "data": {
      "text/plain": [
       "array([[ 1.00000000e+00,  4.00000000e+00,  2.26000000e+05, ...,\n",
       "         7.80000000e+01,  4.04304094e+01, -3.55788870e+00],\n",
       "       [ 1.00000000e+00,  0.00000000e+00,  9.85000000e+04, ...,\n",
       "         5.50000000e+01,  4.04237329e+01, -3.56118680e+00],\n",
       "       [ 1.00000000e+00,  2.42033195e+00,  1.29000000e+05, ...,\n",
       "         7.00000000e+01,  4.04307359e+01, -3.63502170e+00],\n",
       "       ...,\n",
       "       [ 2.00000000e+00,  2.42033195e+00,  5.58000000e+05, ...,\n",
       "         1.58000000e+02,  4.04981190e+01, -3.86182970e+00],\n",
       "       [ 2.00000000e+00,  2.00000000e+00,  2.17329000e+05, ...,\n",
       "         1.19000000e+02,  4.04598286e+01, -3.46135260e+00],\n",
       "       [ 2.00000000e+00,  0.00000000e+00,  4.71000000e+05, ...,\n",
       "         1.45000000e+02,  4.04146709e+01, -3.88483280e+00]])"
      ]
     },
     "execution_count": 44,
     "metadata": {},
     "output_type": "execute_result"
    }
   ],
   "source": [
    "dataset"
   ]
  },
  {
   "cell_type": "code",
   "execution_count": 45,
   "metadata": {},
   "outputs": [],
   "source": [
    "X = np.concatenate((dataset[:,:2], dataset[:,3:]), axis = 1)"
   ]
  },
  {
   "cell_type": "code",
   "execution_count": 46,
   "metadata": {},
   "outputs": [],
   "source": [
    "Y = dataset[:, 2]"
   ]
  },
  {
   "cell_type": "code",
   "execution_count": 47,
   "metadata": {},
   "outputs": [
    {
     "data": {
      "text/plain": [
       "226000.0"
      ]
     },
     "execution_count": 47,
     "metadata": {},
     "output_type": "execute_result"
    }
   ],
   "source": [
    "Y[0]"
   ]
  },
  {
   "cell_type": "code",
   "execution_count": 48,
   "metadata": {},
   "outputs": [
    {
     "data": {
      "text/plain": [
       "array([ 1.       ,  4.       ,  2.       , 78.       , 40.4304094,\n",
       "       -3.5578887])"
      ]
     },
     "execution_count": 48,
     "metadata": {},
     "output_type": "execute_result"
    }
   ],
   "source": [
    "X[0]"
   ]
  },
  {
   "cell_type": "code",
   "execution_count": 50,
   "metadata": {},
   "outputs": [],
   "source": [
    "min_max_scaler = preprocessing.MinMaxScaler()\n",
    "X_scale = min_max_scaler.fit_transform(X)"
   ]
  },
  {
   "cell_type": "code",
   "execution_count": 62,
   "metadata": {},
   "outputs": [],
   "source": [
    "X_train, X_val_and_test, Y_train, Y_val_and_test = train_test_split(X_scale, Y, test_size=0.3)\n",
    "X_val, X_test, Y_val, Y_test = train_test_split(X_val_and_test, Y_val_and_test, test_size=0.5)"
   ]
  },
  {
   "cell_type": "code",
   "execution_count": 65,
   "metadata": {},
   "outputs": [],
   "source": [
    "model = Sequential([\n",
    "    Dense(10, activation='relu', input_shape=(6,)),\n",
    "    Dense(10, activation='relu'),\n",
    "    Dense(1, activation='sigmoid'),\n",
    "])"
   ]
  },
  {
   "cell_type": "code",
   "execution_count": 66,
   "metadata": {},
   "outputs": [],
   "source": [
    "model.compile(optimizer='sgd',\n",
    "              loss='binary_crossentropy',\n",
    "              metrics=['accuracy'])"
   ]
  },
  {
   "cell_type": "code",
   "execution_count": 71,
   "metadata": {},
   "outputs": [
    {
     "name": "stdout",
     "output_type": "stream",
     "text": [
      "Train on 8313 samples, validate on 1782 samples\n",
      "Epoch 1/100\n",
      "8313/8313 [==============================] - 0s 54us/step - loss: -5722757.1231 - acc: 0.0000e+00 - val_loss: -5511284.1510 - val_acc: 0.0000e+00\n",
      "Epoch 2/100\n",
      "8313/8313 [==============================] - 0s 54us/step - loss: -5722757.1201 - acc: 0.0000e+00 - val_loss: -5511284.1510 - val_acc: 0.0000e+00\n",
      "Epoch 3/100\n",
      "8313/8313 [==============================] - 0s 54us/step - loss: -5722757.0906 - acc: 0.0000e+00 - val_loss: -5511284.1510 - val_acc: 0.0000e+00\n",
      "Epoch 4/100\n",
      "8313/8313 [==============================] - 0s 49us/step - loss: -5722757.1016 - acc: 0.0000e+00 - val_loss: -5511284.1510 - val_acc: 0.0000e+00\n",
      "Epoch 5/100\n",
      "8313/8313 [==============================] - 1s 60us/step - loss: -5722757.0847 - acc: 0.0000e+00 - val_loss: -5511284.1510 - val_acc: 0.0000e+00\n",
      "Epoch 6/100\n",
      "8313/8313 [==============================] - 1s 62us/step - loss: -5722757.1127 - acc: 0.0000e+00 - val_loss: -5511284.1510 - val_acc: 0.0000e+00\n",
      "Epoch 7/100\n",
      "8313/8313 [==============================] - 1s 70us/step - loss: -5722757.1012 - acc: 0.0000e+00 - val_loss: -5511284.1510 - val_acc: 0.0000e+00\n",
      "Epoch 8/100\n",
      "8313/8313 [==============================] - 0s 51us/step - loss: -5722757.1049 - acc: 0.0000e+00 - val_loss: -5511284.1510 - val_acc: 0.0000e+00\n",
      "Epoch 9/100\n",
      "8313/8313 [==============================] - 0s 53us/step - loss: -5722757.0811 - acc: 0.0000e+00 - val_loss: -5511284.1510 - val_acc: 0.0000e+00\n",
      "Epoch 10/100\n",
      "8313/8313 [==============================] - 0s 55us/step - loss: -5722757.1134 - acc: 0.0000e+00 - val_loss: -5511284.1510 - val_acc: 0.0000e+00\n",
      "Epoch 11/100\n",
      "8313/8313 [==============================] - 0s 54us/step - loss: -5722757.1015 - acc: 0.0000e+00 - val_loss: -5511284.1510 - val_acc: 0.0000e+00\n",
      "Epoch 12/100\n",
      "8313/8313 [==============================] - 0s 51us/step - loss: -5722757.1192 - acc: 0.0000e+00 - val_loss: -5511284.1510 - val_acc: 0.0000e+00\n",
      "Epoch 13/100\n",
      "8313/8313 [==============================] - 0s 58us/step - loss: -5722757.1051 - acc: 0.0000e+00 - val_loss: -5511284.1510 - val_acc: 0.0000e+00\n",
      "Epoch 14/100\n",
      "8313/8313 [==============================] - 1s 60us/step - loss: -5722757.1348 - acc: 0.0000e+00 - val_loss: -5511284.1510 - val_acc: 0.0000e+00\n",
      "Epoch 15/100\n",
      "8313/8313 [==============================] - 0s 55us/step - loss: -5722757.0783 - acc: 0.0000e+00 - val_loss: -5511284.1510 - val_acc: 0.0000e+00\n",
      "Epoch 16/100\n",
      "8313/8313 [==============================] - 0s 52us/step - loss: -5722757.0595 - acc: 0.0000e+00 - val_loss: -5511284.1510 - val_acc: 0.0000e+00\n",
      "Epoch 17/100\n",
      "8313/8313 [==============================] - 0s 51us/step - loss: -5722757.0938 - acc: 0.0000e+00 - val_loss: -5511284.1510 - val_acc: 0.0000e+00\n",
      "Epoch 18/100\n",
      "8313/8313 [==============================] - 0s 53us/step - loss: -5722757.1142 - acc: 0.0000e+00 - val_loss: -5511284.1510 - val_acc: 0.0000e+00\n",
      "Epoch 19/100\n",
      "8313/8313 [==============================] - 0s 52us/step - loss: -5722757.1095 - acc: 0.0000e+00 - val_loss: -5511284.1510 - val_acc: 0.0000e+00\n",
      "Epoch 20/100\n",
      "8313/8313 [==============================] - 1s 63us/step - loss: -5722757.1065 - acc: 0.0000e+00 - val_loss: -5511284.1510 - val_acc: 0.0000e+00\n",
      "Epoch 21/100\n",
      "8313/8313 [==============================] - 0s 53us/step - loss: -5722757.0871 - acc: 0.0000e+00 - val_loss: -5511284.1510 - val_acc: 0.0000e+00\n",
      "Epoch 22/100\n",
      "8313/8313 [==============================] - 0s 51us/step - loss: -5722757.0880 - acc: 0.0000e+00 - val_loss: -5511284.1510 - val_acc: 0.0000e+00\n",
      "Epoch 23/100\n",
      "8313/8313 [==============================] - 1s 65us/step - loss: -5722757.1095 - acc: 0.0000e+00 - val_loss: -5511284.1510 - val_acc: 0.0000e+00\n",
      "Epoch 24/100\n",
      "8313/8313 [==============================] - 1s 64us/step - loss: -5722757.0882 - acc: 0.0000e+00 - val_loss: -5511284.1510 - val_acc: 0.0000e+00\n",
      "Epoch 25/100\n",
      "8313/8313 [==============================] - 1s 65us/step - loss: -5722757.0761 - acc: 0.0000e+00 - val_loss: -5511284.1510 - val_acc: 0.0000e+00\n",
      "Epoch 26/100\n",
      "8313/8313 [==============================] - 1s 66us/step - loss: -5722757.0866 - acc: 0.0000e+00 - val_loss: -5511284.1510 - val_acc: 0.0000e+00\n",
      "Epoch 27/100\n",
      "8313/8313 [==============================] - 0s 52us/step - loss: -5722757.0950 - acc: 0.0000e+00 - val_loss: -5511284.1510 - val_acc: 0.0000e+00\n",
      "Epoch 28/100\n",
      "8313/8313 [==============================] - 1s 70us/step - loss: -5722757.1051 - acc: 0.0000e+00 - val_loss: -5511284.1510 - val_acc: 0.0000e+00\n",
      "Epoch 29/100\n",
      "8313/8313 [==============================] - 0s 59us/step - loss: -5722757.0912 - acc: 0.0000e+00 - val_loss: -5511284.1510 - val_acc: 0.0000e+00\n",
      "Epoch 30/100\n",
      "8313/8313 [==============================] - 0s 58us/step - loss: -5722757.0751 - acc: 0.0000e+00 - val_loss: -5511284.1510 - val_acc: 0.0000e+00\n",
      "Epoch 31/100\n",
      "8313/8313 [==============================] - 0s 57us/step - loss: -5722757.1000 - acc: 0.0000e+00 - val_loss: -5511284.1510 - val_acc: 0.0000e+00\n",
      "Epoch 32/100\n",
      "8313/8313 [==============================] - 1s 68us/step - loss: -5722757.0642 - acc: 0.0000e+00 - val_loss: -5511284.1510 - val_acc: 0.0000e+00\n",
      "Epoch 33/100\n",
      "8313/8313 [==============================] - 0s 56us/step - loss: -5722757.1252 - acc: 0.0000e+00 - val_loss: -5511284.1510 - val_acc: 0.0000e+00\n",
      "Epoch 34/100\n",
      "8313/8313 [==============================] - 1s 60us/step - loss: -5722757.1274 - acc: 0.0000e+00 - val_loss: -5511284.1510 - val_acc: 0.0000e+00\n",
      "Epoch 35/100\n",
      "8313/8313 [==============================] - 1s 61us/step - loss: -5722757.0957 - acc: 0.0000e+00 - val_loss: -5511284.1510 - val_acc: 0.0000e+00\n",
      "Epoch 36/100\n",
      "8313/8313 [==============================] - 0s 58us/step - loss: -5722757.0727 - acc: 0.0000e+00 - val_loss: -5511284.1510 - val_acc: 0.0000e+00\n",
      "Epoch 37/100\n",
      "8313/8313 [==============================] - 0s 52us/step - loss: -5722757.0952 - acc: 0.0000e+00 - val_loss: -5511284.1510 - val_acc: 0.0000e+00\n",
      "Epoch 38/100\n",
      "8313/8313 [==============================] - 0s 56us/step - loss: -5722757.0733 - acc: 0.0000e+00 - val_loss: -5511284.1510 - val_acc: 0.0000e+00\n",
      "Epoch 39/100\n",
      "8313/8313 [==============================] - 0s 60us/step - loss: -5722757.0926 - acc: 0.0000e+00 - val_loss: -5511284.1510 - val_acc: 0.0000e+00\n",
      "Epoch 40/100\n",
      "8313/8313 [==============================] - 1s 71us/step - loss: -5722757.0925 - acc: 0.0000e+00 - val_loss: -5511284.1510 - val_acc: 0.0000e+00\n",
      "Epoch 41/100\n",
      "8313/8313 [==============================] - 1s 66us/step - loss: -5722757.1030 - acc: 0.0000e+00 - val_loss: -5511284.1510 - val_acc: 0.0000e+00\n",
      "Epoch 42/100\n",
      "8313/8313 [==============================] - 0s 57us/step - loss: -5722757.0998 - acc: 0.0000e+00 - val_loss: -5511284.1510 - val_acc: 0.0000e+00\n",
      "Epoch 43/100\n",
      "8313/8313 [==============================] - 0s 55us/step - loss: -5722757.1070 - acc: 0.0000e+00 - val_loss: -5511284.1510 - val_acc: 0.0000e+00\n",
      "Epoch 44/100\n",
      "8313/8313 [==============================] - 1s 63us/step - loss: -5722757.0989 - acc: 0.0000e+00 - val_loss: -5511284.1510 - val_acc: 0.0000e+00\n",
      "Epoch 45/100\n",
      "8313/8313 [==============================] - 1s 62us/step - loss: -5722757.1070 - acc: 0.0000e+00 - val_loss: -5511284.1510 - val_acc: 0.0000e+00\n",
      "Epoch 46/100\n",
      "8313/8313 [==============================] - 1s 64us/step - loss: -5722757.1009 - acc: 0.0000e+00 - val_loss: -5511284.1510 - val_acc: 0.0000e+00\n",
      "Epoch 47/100\n",
      "8313/8313 [==============================] - 0s 55us/step - loss: -5722757.1021 - acc: 0.0000e+00 - val_loss: -5511284.1510 - val_acc: 0.0000e+00\n",
      "Epoch 48/100\n",
      "8313/8313 [==============================] - 0s 57us/step - loss: -5722757.0718 - acc: 0.0000e+00 - val_loss: -5511284.1510 - val_acc: 0.0000e+00\n",
      "Epoch 49/100\n",
      "8313/8313 [==============================] - 1s 77us/step - loss: -5722757.0841 - acc: 0.0000e+00 - val_loss: -5511284.1510 - val_acc: 0.0000e+00\n",
      "Epoch 50/100\n",
      "8313/8313 [==============================] - 1s 65us/step - loss: -5722757.0966 - acc: 0.0000e+00 - val_loss: -5511284.1510 - val_acc: 0.0000e+00\n",
      "Epoch 51/100\n",
      "8313/8313 [==============================] - 0s 55us/step - loss: -5722757.0520 - acc: 0.0000e+00 - val_loss: -5511284.1510 - val_acc: 0.0000e+00\n",
      "Epoch 52/100\n"
     ]
    },
    {
     "name": "stdout",
     "output_type": "stream",
     "text": [
      "8313/8313 [==============================] - 0s 51us/step - loss: -5722757.0932 - acc: 0.0000e+00 - val_loss: -5511284.1510 - val_acc: 0.0000e+00\n",
      "Epoch 53/100\n",
      "8313/8313 [==============================] - 0s 58us/step - loss: -5722757.0642 - acc: 0.0000e+00 - val_loss: -5511284.1510 - val_acc: 0.0000e+00\n",
      "Epoch 54/100\n",
      "8313/8313 [==============================] - 0s 56us/step - loss: -5722757.1179 - acc: 0.0000e+00 - val_loss: -5511284.1510 - val_acc: 0.0000e+00\n",
      "Epoch 55/100\n",
      "8313/8313 [==============================] - 0s 49us/step - loss: -5722757.0919 - acc: 0.0000e+00 - val_loss: -5511284.1510 - val_acc: 0.0000e+00\n",
      "Epoch 56/100\n",
      "8313/8313 [==============================] - 1s 73us/step - loss: -5722757.0996 - acc: 0.0000e+00 - val_loss: -5511284.1510 - val_acc: 0.0000e+00\n",
      "Epoch 57/100\n",
      "8313/8313 [==============================] - 1s 63us/step - loss: -5722757.0574 - acc: 0.0000e+00 - val_loss: -5511284.1510 - val_acc: 0.0000e+00\n",
      "Epoch 58/100\n",
      "8313/8313 [==============================] - 0s 60us/step - loss: -5722757.1186 - acc: 0.0000e+00 - val_loss: -5511284.1510 - val_acc: 0.0000e+00\n",
      "Epoch 59/100\n",
      "8313/8313 [==============================] - 0s 50us/step - loss: -5722757.1087 - acc: 0.0000e+00 - val_loss: -5511284.1510 - val_acc: 0.0000e+00\n",
      "Epoch 60/100\n",
      "8313/8313 [==============================] - 0s 58us/step - loss: -5722757.1216 - acc: 0.0000e+00 - val_loss: -5511284.1510 - val_acc: 0.0000e+00\n",
      "Epoch 61/100\n",
      "8313/8313 [==============================] - 0s 55us/step - loss: -5722757.1193 - acc: 0.0000e+00 - val_loss: -5511284.1510 - val_acc: 0.0000e+00\n",
      "Epoch 62/100\n",
      "8313/8313 [==============================] - 1s 91us/step - loss: -5722757.1095 - acc: 0.0000e+00 - val_loss: -5511284.1510 - val_acc: 0.0000e+00\n",
      "Epoch 63/100\n",
      "8313/8313 [==============================] - 1s 139us/step - loss: -5722757.1084 - acc: 0.0000e+00 - val_loss: -5511284.1510 - val_acc: 0.0000e+00\n",
      "Epoch 64/100\n",
      "8313/8313 [==============================] - 1s 103us/step - loss: -5722757.0980 - acc: 0.0000e+00 - val_loss: -5511284.1510 - val_acc: 0.0000e+00\n",
      "Epoch 65/100\n",
      "8313/8313 [==============================] - 1s 112us/step - loss: -5722757.1222 - acc: 0.0000e+00 - val_loss: -5511284.1510 - val_acc: 0.0000e+00\n",
      "Epoch 66/100\n",
      "8313/8313 [==============================] - 0s 56us/step - loss: -5722757.1054 - acc: 0.0000e+00 - val_loss: -5511284.1510 - val_acc: 0.0000e+00\n",
      "Epoch 67/100\n",
      "8313/8313 [==============================] - 1s 70us/step - loss: -5722757.0942 - acc: 0.0000e+00 - val_loss: -5511284.1510 - val_acc: 0.0000e+00\n",
      "Epoch 68/100\n",
      "8313/8313 [==============================] - 1s 74us/step - loss: -5722757.0982 - acc: 0.0000e+00 - val_loss: -5511284.1510 - val_acc: 0.0000e+00\n",
      "Epoch 69/100\n",
      "8313/8313 [==============================] - 1s 63us/step - loss: -5722757.0877 - acc: 0.0000e+00 - val_loss: -5511284.1510 - val_acc: 0.0000e+00\n",
      "Epoch 70/100\n",
      "8313/8313 [==============================] - 0s 51us/step - loss: -5722757.1002 - acc: 0.0000e+00 - val_loss: -5511284.1510 - val_acc: 0.0000e+00\n",
      "Epoch 71/100\n",
      "8313/8313 [==============================] - 0s 52us/step - loss: -5722757.0899 - acc: 0.0000e+00 - val_loss: -5511284.1510 - val_acc: 0.0000e+00\n",
      "Epoch 72/100\n",
      "8313/8313 [==============================] - 0s 58us/step - loss: -5722757.0923 - acc: 0.0000e+00 - val_loss: -5511284.1510 - val_acc: 0.0000e+00\n",
      "Epoch 73/100\n",
      "8313/8313 [==============================] - 1s 64us/step - loss: -5722757.0992 - acc: 0.0000e+00 - val_loss: -5511284.1510 - val_acc: 0.0000e+00\n",
      "Epoch 74/100\n",
      "8313/8313 [==============================] - 0s 51us/step - loss: -5722757.0792 - acc: 0.0000e+00 - val_loss: -5511284.1510 - val_acc: 0.0000e+00\n",
      "Epoch 75/100\n",
      "8313/8313 [==============================] - 0s 59us/step - loss: -5722757.0987 - acc: 0.0000e+00 - val_loss: -5511284.1510 - val_acc: 0.0000e+00\n",
      "Epoch 76/100\n",
      "8313/8313 [==============================] - 1s 64us/step - loss: -5722757.1037 - acc: 0.0000e+00 - val_loss: -5511284.1510 - val_acc: 0.0000e+00\n",
      "Epoch 77/100\n",
      "8313/8313 [==============================] - 1s 65us/step - loss: -5722757.1019 - acc: 0.0000e+00 - val_loss: -5511284.1510 - val_acc: 0.0000e+00\n",
      "Epoch 78/100\n",
      "8313/8313 [==============================] - 1s 62us/step - loss: -5722757.1120 - acc: 0.0000e+00 - val_loss: -5511284.1510 - val_acc: 0.0000e+00\n",
      "Epoch 79/100\n",
      "8313/8313 [==============================] - 1s 88us/step - loss: -5722757.0935 - acc: 0.0000e+00 - val_loss: -5511284.1510 - val_acc: 0.0000e+00\n",
      "Epoch 80/100\n",
      "8313/8313 [==============================] - 1s 77us/step - loss: -5722757.0970 - acc: 0.0000e+00 - val_loss: -5511284.1510 - val_acc: 0.0000e+00\n",
      "Epoch 81/100\n",
      "8313/8313 [==============================] - 1s 62us/step - loss: -5722757.1251 - acc: 0.0000e+00 - val_loss: -5511284.1510 - val_acc: 0.0000e+00\n",
      "Epoch 82/100\n",
      "8313/8313 [==============================] - 1s 77us/step - loss: -5722757.1208 - acc: 0.0000e+00 - val_loss: -5511284.1510 - val_acc: 0.0000e+00\n",
      "Epoch 83/100\n",
      "8313/8313 [==============================] - 0s 57us/step - loss: -5722757.1085 - acc: 0.0000e+00 - val_loss: -5511284.1510 - val_acc: 0.0000e+00\n",
      "Epoch 84/100\n",
      "8313/8313 [==============================] - 0s 59us/step - loss: -5722757.0944 - acc: 0.0000e+00 - val_loss: -5511284.1510 - val_acc: 0.0000e+00\n",
      "Epoch 85/100\n",
      "8313/8313 [==============================] - 0s 52us/step - loss: -5722757.0873 - acc: 0.0000e+00 - val_loss: -5511284.1510 - val_acc: 0.0000e+00\n",
      "Epoch 86/100\n",
      "8313/8313 [==============================] - 0s 57us/step - loss: -5722757.0713 - acc: 0.0000e+00 - val_loss: -5511284.1510 - val_acc: 0.0000e+00\n",
      "Epoch 87/100\n",
      "8313/8313 [==============================] - 0s 51us/step - loss: -5722757.1143 - acc: 0.0000e+00 - val_loss: -5511284.1510 - val_acc: 0.0000e+00\n",
      "Epoch 88/100\n",
      "8313/8313 [==============================] - 0s 59us/step - loss: -5722757.1216 - acc: 0.0000e+00 - val_loss: -5511284.1510 - val_acc: 0.0000e+00\n",
      "Epoch 89/100\n",
      "8313/8313 [==============================] - 0s 51us/step - loss: -5722757.0970 - acc: 0.0000e+00 - val_loss: -5511284.1510 - val_acc: 0.0000e+00\n",
      "Epoch 90/100\n",
      "8313/8313 [==============================] - 0s 57us/step - loss: -5722757.0796 - acc: 0.0000e+00 - val_loss: -5511284.1510 - val_acc: 0.0000e+00\n",
      "Epoch 91/100\n",
      "8313/8313 [==============================] - 0s 52us/step - loss: -5722757.1025 - acc: 0.0000e+00 - val_loss: -5511284.1510 - val_acc: 0.0000e+00\n",
      "Epoch 92/100\n",
      "8313/8313 [==============================] - 0s 53us/step - loss: -5722757.1063 - acc: 0.0000e+00 - val_loss: -5511284.1510 - val_acc: 0.0000e+00\n",
      "Epoch 93/100\n",
      "8313/8313 [==============================] - ETA: 0s - loss: -5702608.6687 - acc: 0.0000e+ - 0s 55us/step - loss: -5722757.1052 - acc: 0.0000e+00 - val_loss: -5511284.1510 - val_acc: 0.0000e+00\n",
      "Epoch 94/100\n",
      "8313/8313 [==============================] - 0s 48us/step - loss: -5722757.1243 - acc: 0.0000e+00 - val_loss: -5511284.1510 - val_acc: 0.0000e+00\n",
      "Epoch 95/100\n",
      "8313/8313 [==============================] - 0s 50us/step - loss: -5722757.1096 - acc: 0.0000e+00 - val_loss: -5511284.1510 - val_acc: 0.0000e+00\n",
      "Epoch 96/100\n",
      "8313/8313 [==============================] - 0s 49us/step - loss: -5722757.1280 - acc: 0.0000e+00 - val_loss: -5511284.1510 - val_acc: 0.0000e+00\n",
      "Epoch 97/100\n",
      "8313/8313 [==============================] - 0s 54us/step - loss: -5722757.1112 - acc: 0.0000e+00 - val_loss: -5511284.1510 - val_acc: 0.0000e+00\n",
      "Epoch 98/100\n",
      "8313/8313 [==============================] - 0s 48us/step - loss: -5722757.0971 - acc: 0.0000e+00 - val_loss: -5511284.1510 - val_acc: 0.0000e+00\n",
      "Epoch 99/100\n",
      "8313/8313 [==============================] - 0s 48us/step - loss: -5722757.0731 - acc: 0.0000e+00 - val_loss: -5511284.1510 - val_acc: 0.0000e+00\n",
      "Epoch 100/100\n",
      "8313/8313 [==============================] - 0s 54us/step - loss: -5722757.1105 - acc: 0.0000e+00 - val_loss: -5511284.1510 - val_acc: 0.0000e+00\n"
     ]
    }
   ],
   "source": [
    "hist = model.fit(X_train, Y_train,\n",
    "          batch_size=32, epochs=100,\n",
    "          validation_data=(X_test, Y_test))"
   ]
  },
  {
   "cell_type": "code",
   "execution_count": 64,
   "metadata": {},
   "outputs": [
    {
     "name": "stdout",
     "output_type": "stream",
     "text": [
      "1782/1782 [==============================] - 0s 26us/step\n"
     ]
    },
    {
     "data": {
      "text/plain": [
       "0.0"
      ]
     },
     "execution_count": 64,
     "metadata": {},
     "output_type": "execute_result"
    }
   ],
   "source": [
    "model.evaluate(X_test, Y_test)[1]"
   ]
  },
  {
   "cell_type": "code",
   "execution_count": 69,
   "metadata": {},
   "outputs": [
    {
     "data": {
      "text/plain": [
       "array([173000., 164544., 700000., ..., 480000., 208000., 275000.])"
      ]
     },
     "execution_count": 69,
     "metadata": {},
     "output_type": "execute_result"
    }
   ],
   "source": [
    "Y_test"
   ]
  },
  {
   "cell_type": "code",
   "execution_count": 74,
   "metadata": {},
   "outputs": [
    {
     "data": {
      "image/png": "[encoded data removed]",
      "text/plain": [
       "<Figure size 432x288 with 1 Axes>"
      ]
     },
     "metadata": {
      "needs_background": "light"
     },
     "output_type": "display_data"
    }
   ],
   "source": [
    "plt.plot(hist.history['loss'])\n",
    "plt.plot(hist.history['val_loss'])\n",
    "plt.title('Model loss')\n",
    "plt.ylabel('Loss')\n",
    "plt.xlabel('Epoch')\n",
    "plt.legend(['Train', 'Val'], loc='upper right')\n",
    "plt.show()"
   ]
  },
  {
   "cell_type": "code",
   "execution_count": null,
   "metadata": {},
   "outputs": [],
   "source": []
  }
 ],
 "metadata": {
  "kernelspec": {
   "display_name": "Python 3",
   "language": "python",
   "name": "python3"
  },
  "language_info": {
   "codemirror_mode": {
    "name": "ipython",
    "version": 3
   },
   "file_extension": ".py",
   "mimetype": "text/x-python",
   "name": "python",
   "nbconvert_exporter": "python",
   "pygments_lexer": "ipython3",
   "version": "3.7.3"
  }
 },
 "nbformat": 4,
 "nbformat_minor": 2
}
