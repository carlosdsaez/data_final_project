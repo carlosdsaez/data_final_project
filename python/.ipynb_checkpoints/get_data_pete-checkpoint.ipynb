{
 "cells": [
  {
   "cell_type": "code",
   "execution_count": 12,
   "metadata": {},
   "outputs": [],
   "source": [
    "import requests\n",
    "from bs4 import BeautifulSoup\n",
    "import time\n",
    "import numpy as np"
   ]
  },
  {
   "cell_type": "code",
   "execution_count": null,
   "metadata": {},
   "outputs": [],
   "source": [
    "url_main = 'https://www.idealista.com/'\n",
    "url_main_list = 'https://www.idealista.com/venta-viviendas/madrid-madrid/con-pisos/'\n",
    "\n",
    "URL_PATTERN = 'http://quotes.toscrape.com/page/%s/' # regex pattern for the urls to scrape\n",
    "PAGES_TO_SCRAPE = 1\n",
    "\n",
    "for n in range(1, 2):\n",
    "    url = url_main_list + 'pagina-' + str(n) + '.htm'\n",
    "    print(url)\n",
    "    time.sleep(2)\n",
    "\n",
    "#r = requests.get()"
   ]
  },
  {
   "cell_type": "code",
   "execution_count": null,
   "metadata": {},
   "outputs": [],
   "source": [
    "headers = {'Accept-Encoding': 'gzip, deflate, br',\n",
    "          'Accept-Language': 'en-US,en;q=0.9,es-ES;q=0.8,es;q=0.7',\n",
    "          'Accept':'text/html,application/xhtml+xml,application/xml;q=0.9,image/webp,image/apng,*/*;q=0.8,application/signed-exchange;v=b3',\n",
    "          'Cache-Control': 'no-cache'}\n",
    "\n",
    "html = requests.get('https://www.idealista.com/venta-viviendas/madrid-madrid/con-pisos/', headers = headers).content\n",
    "soup1 = BeautifulSoup(html)\n",
    "print(soup1.prettify())"
   ]
  },
  {
   "cell_type": "code",
   "execution_count": null,
   "metadata": {},
   "outputs": [],
   "source": [
    "r.raw()"
   ]
  },
  {
   "cell_type": "code",
   "execution_count": null,
   "metadata": {},
   "outputs": [],
   "source": [
    "html1 = requests.get(url1).content\n",
    "soup1 = BeautifulSoup(html1)"
   ]
  },
  {
   "cell_type": "code",
   "execution_count": 113,
   "metadata": {},
   "outputs": [],
   "source": [
    "\n",
    "import random\n",
    "from itertools import cycle\n",
    "\n",
    "class idealSpider:\n",
    "\n",
    "    def __init__(self, url_pattern, range_to_scrape=10, content_parser=None, headers=None):\n",
    "        self.url_pattern = url_pattern\n",
    "        self.range_to_scrape = range_to_scrape\n",
    "        self.content_parser = content_parser\n",
    "        self.headers = headers\n",
    "        self.result = []\n",
    "        \n",
    "    '''\n",
    "        def get_random_ua():\n",
    "            random_ua = ''\n",
    "            ua_file = 'ua_file.txt'\n",
    "            try:\n",
    "                with open(ua_file) as f:\n",
    "                    lines = f.readlines()\n",
    "                if len(lines) > 0:\n",
    "                    prng = np.random.RandomState()\n",
    "                    index = prng.permutation(len(lines) - 1)\n",
    "                    idx = np.asarray(index, dtype=np.integer)[0]\n",
    "                    random_proxy = lines[int(idx)]\n",
    "            except Exception as ex:\n",
    "                print('Exception in random_ua')\n",
    "                print(str(ex))\n",
    "            finally:\n",
    "                return random_ua\n",
    "\n",
    "    '''\n",
    "\n",
    "    def ua_random(self):\n",
    "        random_ua = ''\n",
    "        ua_file = 'agents.txt'\n",
    "        try:\n",
    "            with open(ua_file) as f:\n",
    "                lines = f.readlines()\n",
    "            if len(lines) > 0:\n",
    "                random_ua = random.choice(lines)\n",
    "                random_ua = random_ua.split('\\n')\n",
    "        except Exception as ex:\n",
    "            print('Exception in ua_random')\n",
    "            print(str(ex))\n",
    "        finally:\n",
    "            return random_ua[0] \n",
    "        \n",
    "    def scrape_url(self, url, proxy):\n",
    "        user_agent = self.ua_random()\n",
    "        print(user_agent)\n",
    "        headers = self.headers\n",
    "        headers['user-agent'] = user_agent\n",
    "\n",
    "        try:\n",
    "            response = requests.get(url, headers = headers, proxies={\"http\": proxy, \"https\": proxy})\n",
    "            response.raise_for_status()\n",
    "            contenido = response.content\n",
    "            links = self.content_parser(contenido)\n",
    "            if len(links) >  0:\n",
    "                for link in links:\n",
    "                    self.result.append(link)\n",
    "            else:\n",
    "                self.result.append(url)\n",
    "            result = links   \n",
    "        except requests.exceptions.HTTPError as e_http:\n",
    "            result = \"Error http:\" + str(e_http)\n",
    "        except requests.exceptions.ConnectionError as e_conect:\n",
    "            result = \"Error de conexión:\" + str(e_conect)\n",
    "        except requests.exceptions.SSLError as e_ssl:\n",
    "            result = \"Error de SSL: \" + str(e_ssl)\n",
    "        except requests.exceptions.Timeout as e_time:\n",
    "            result = \"Error timeout:\" + str(e_time)\n",
    "        except requests.exceptions.TooManyRedirects as e_redi:\n",
    "            result = \"Error demasiadas redirecciones:\" + str(e_redi)\n",
    "        except requests.exceptions.RequestException as e:\n",
    "            result = \"Error Desconocido: \" + str(e)\n",
    "        \n",
    "        self.output_results(result)\n",
    "        \n",
    "    \n",
    "    def output_results(self, r):\n",
    "        print(r)\n",
    "    \n",
    "    def get_proxies():\n",
    "        proxie_file = 'proxies.txt'\n",
    "        try:\n",
    "            with open(proxie_file) as f:\n",
    "                proxies = f.readlines()\n",
    "            return proxies\n",
    "        except:\n",
    "            pass\n",
    "\n",
    "    def kickstart(self):\n",
    "        proxies = self.get_proxies()\n",
    "        proxy_pool = cycle(proxies)\n",
    "        for i in self.range_to_scrape:\n",
    "            proxy = next(proxy_pool)\n",
    "            self.scrape_url(self.url_pattern % i, proxy)\n",
    "            time.sleep(random.randint(2, 5))        \n"
   ]
  },
  {
   "cell_type": "code",
   "execution_count": 76,
   "metadata": {},
   "outputs": [
    {
     "name": "stdout",
     "output_type": "stream",
     "text": [
      "Mozilla/5.0 (Windows NT 10.0; WOW64) AppleWebKit/537.36 (KHTML, like Gecko) Chrome/52.0.2743.116 Safari/537.36\n",
      "\n",
      "['Mozilla/5.0 (Windows NT 10.0; WOW64) AppleWebKit/537.36 (KHTML, like Gecko) Chrome/52.0.2743.116 Safari/537.36', '']\n"
     ]
    },
    {
     "data": {
      "text/plain": [
       "'Mozilla/5.0 (Windows NT 10.0; WOW64) AppleWebKit/537.36 (KHTML, like Gecko) Chrome/52.0.2743.116 Safari/537.36'"
      ]
     },
     "execution_count": 76,
     "metadata": {},
     "output_type": "execute_result"
    }
   ],
   "source": [
    "import random\n",
    "def testagent():\n",
    "    random_ua = ''\n",
    "    ua_file = 'agents.txt'\n",
    "    try:\n",
    "        with open(ua_file) as f:\n",
    "            lines = f.readlines()\n",
    "        if len(lines) > 0:\n",
    "            random_ua = random.choice(lines)\n",
    "            print(random_ua)\n",
    "            random_ua = random_ua.split('\\n')\n",
    "            print(random_ua)\n",
    "    except Exception as ex:\n",
    "        print('Exception in ua_random')\n",
    "        print(str(ex))\n",
    "    finally:\n",
    "        return random_ua[0]\n",
    "    \n",
    "testagent()"
   ]
  },
  {
   "cell_type": "code",
   "execution_count": 77,
   "metadata": {},
   "outputs": [
    {
     "ename": "NameError",
     "evalue": "name 'soup1' is not defined",
     "output_type": "error",
     "traceback": [
      "\u001b[0;31m---------------------------------------------------------------------------\u001b[0m",
      "\u001b[0;31mNameError\u001b[0m                                 Traceback (most recent call last)",
      "\u001b[0;32m<ipython-input-77-945c4a17318f>\u001b[0m in \u001b[0;36m<module>\u001b[0;34m\u001b[0m\n\u001b[0;32m----> 1\u001b[0;31m \u001b[0mlinks\u001b[0m \u001b[0;34m=\u001b[0m \u001b[0msoup1\u001b[0m\u001b[0;34m.\u001b[0m\u001b[0mfind_all\u001b[0m\u001b[0;34m(\u001b[0m\u001b[0;34m'a'\u001b[0m\u001b[0;34m,\u001b[0m \u001b[0;34m'item-link'\u001b[0m\u001b[0;34m)\u001b[0m\u001b[0;34m\u001b[0m\u001b[0;34m\u001b[0m\u001b[0m\n\u001b[0m\u001b[1;32m      2\u001b[0m \u001b[0mhrefs\u001b[0m \u001b[0;34m=\u001b[0m \u001b[0;34m[\u001b[0m\u001b[0;34m]\u001b[0m\u001b[0;34m\u001b[0m\u001b[0;34m\u001b[0m\u001b[0m\n\u001b[1;32m      3\u001b[0m \u001b[0;32mfor\u001b[0m \u001b[0ma\u001b[0m \u001b[0;32min\u001b[0m \u001b[0mlinks\u001b[0m\u001b[0;34m:\u001b[0m\u001b[0;34m\u001b[0m\u001b[0;34m\u001b[0m\u001b[0m\n\u001b[1;32m      4\u001b[0m     \u001b[0mhrefs\u001b[0m\u001b[0;34m.\u001b[0m\u001b[0mappend\u001b[0m\u001b[0;34m(\u001b[0m\u001b[0ma\u001b[0m\u001b[0;34m[\u001b[0m\u001b[0;34m'href'\u001b[0m\u001b[0;34m]\u001b[0m\u001b[0;34m)\u001b[0m\u001b[0;34m\u001b[0m\u001b[0;34m\u001b[0m\u001b[0m\n\u001b[1;32m      5\u001b[0m \u001b[0;34m\u001b[0m\u001b[0m\n",
      "\u001b[0;31mNameError\u001b[0m: name 'soup1' is not defined"
     ]
    }
   ],
   "source": [
    "links = soup1.find_all('a', 'item-link')\n",
    "hrefs = []\n",
    "for a in links:\n",
    "    hrefs.append(a['href'])\n",
    "    \n",
    "hrefs"
   ]
  },
  {
   "cell_type": "code",
   "execution_count": 114,
   "metadata": {},
   "outputs": [],
   "source": [
    "URL_general = 'https://www.idealista.com/venta-viviendas/madrid-madrid/con-pisos/pagina-%s.htm'\n",
    "range_to_scrape = range(10, 20)\n",
    "sleep = 3\n",
    "headers = {'Accept-Encoding': 'gzip, deflate, br',\n",
    "          'Accept-Language': 'en-US,en;q=0.9,es-ES;q=0.8,es;q=0.7',\n",
    "          'Accept':'text/html,application/xhtml+xml,application/xml;q=0.9,image/webp,image/apng,*/*;q=0.8,application/signed-exchange;v=b3',\n",
    "          'Cache-Control': 'no-cache'}\n",
    "\n",
    "def quotes_parser_refs(content):\n",
    "    soup1 = BeautifulSoup(content)\n",
    "    print(soup1.prettify())\n",
    "    links = soup1.find_all('a', 'item-link')\n",
    "    hrefs = []\n",
    "    for a in links:\n",
    "        hrefs.append(a['href'])\n",
    "    return hrefs\n",
    "    \n",
    "spider = idealSpider(URL_general, range_to_scrape, content_parser = quotes_parser_refs, headers = headers)"
   ]
  },
  {
   "cell_type": "code",
   "execution_count": null,
   "metadata": {},
   "outputs": [],
   "source": [
    "spider"
   ]
  },
  {
   "cell_type": "code",
   "execution_count": 92,
   "metadata": {},
   "outputs": [],
   "source": [
    "from lxml.html import fromstring\n",
    "def get_proxies():\n",
    "    url = 'https://free-proxy-list.net/'\n",
    "    response = requests.get(url)\n",
    "    parser = fromstring(response.text)\n",
    "    proxies = set()\n",
    "    for i in parser.xpath('//tbody/tr')[:10]:\n",
    "        if i.xpath('.//td[7][contains(text(),\"yes\")]'):\n",
    "            #Grabbing IP and corresponding PORT\n",
    "            proxy = \":\".join([i.xpath('.//td[1]/text()')[0], i.xpath('.//td[2]/text()')[0]])\n",
    "            proxies.add(proxy)\n",
    "    return proxies\n",
    "proxies = get_proxies()"
   ]
  },
  {
   "cell_type": "code",
   "execution_count": 93,
   "metadata": {},
   "outputs": [
    {
     "data": {
      "text/plain": [
       "{'128.199.252.137:8888',\n",
       " '167.99.78.94:3128',\n",
       " '197.242.206.64:46246',\n",
       " '58.123.205.81:80',\n",
       " '62.76.5.157:50150'}"
      ]
     },
     "execution_count": 93,
     "metadata": {},
     "output_type": "execute_result"
    }
   ],
   "source": [
    "proxies"
   ]
  },
  {
   "cell_type": "code",
   "execution_count": 94,
   "metadata": {},
   "outputs": [],
   "source": [
    "proxies2 = get_proxies()"
   ]
  },
  {
   "cell_type": "code",
   "execution_count": 95,
   "metadata": {},
   "outputs": [
    {
     "data": {
      "text/plain": [
       "{'176.213.142.220:49306', '185.82.212.95:8080', '198.27.67.35:3128'}"
      ]
     },
     "execution_count": 95,
     "metadata": {},
     "output_type": "execute_result"
    }
   ],
   "source": [
    "proxies2"
   ]
  },
  {
   "cell_type": "code",
   "execution_count": null,
   "metadata": {},
   "outputs": [],
   "source": [
    "from lxml.html import fromstring\n",
    "import requests\n",
    "from itertools import cycle\n",
    "import traceback\n",
    "\n",
    "def get_proxies():\n",
    "    url = 'https://free-proxy-list.net/'\n",
    "    response = requests.get(url)\n",
    "    parser = fromstring(response.text)\n",
    "    proxies = set()\n",
    "    for i in parser.xpath('//tbody/tr')[:10]:\n",
    "        if i.xpath('.//td[7][contains(text(),\"yes\")]'):\n",
    "            proxy = \":\".join([i.xpath('.//td[1]/text()')[0], i.xpath('.//td[2]/text()')[0]])\n",
    "            proxies.add(proxy)\n",
    "    return proxies\n",
    "\n",
    "\n",
    "#If you are copy pasting proxy ips, put in the list below\n",
    "#proxies = ['121.129.127.209:80', '124.41.215.238:45169', '185.93.3.123:8080', '194.182.64.67:3128', '106.0.38.174:8080', '163.172.175.210:3128', '13.92.196.150:8080']\n",
    "proxies = get_proxies()\n",
    "proxy_pool = cycle(proxies)\n",
    "\n",
    "url = 'https://httpbin.org/ip'\n",
    "for i in range(1,11):\n",
    "    #Get a proxy from the pool\n",
    "    proxy = next(proxy_pool)\n",
    "    print(\"Request #%d\"%i)\n",
    "    try:\n",
    "        response = requests.get(url,proxies={\"http\": proxy, \"https\": proxy})\n",
    "        print(response.json())\n",
    "    except:\n",
    "        #Most free proxies will often get connection errors. You will have retry the entire request using another proxy to work. \n",
    "        #We will just skip retries as its beyond the scope of this tutorial and we are only downloading a single url \n",
    "        print(\"Skipping. Connnection error\")"
   ]
  },
  {
   "cell_type": "code",
   "execution_count": 102,
   "metadata": {},
   "outputs": [],
   "source": [
    "def get_proxies():\n",
    "    proxie_file = 'proxies.txt'\n",
    "    try:\n",
    "        with open(proxie_file) as f:\n",
    "            proxies = f.readlines()\n",
    "        return proxies\n",
    "    except:\n",
    "        pass\n"
   ]
  },
  {
   "cell_type": "code",
   "execution_count": 104,
   "metadata": {},
   "outputs": [],
   "source": [
    "proxies = get_proxies()"
   ]
  },
  {
   "cell_type": "code",
   "execution_count": 105,
   "metadata": {},
   "outputs": [
    {
     "name": "stdout",
     "output_type": "stream",
     "text": [
      "103.105.48.16:80\n",
      "\n",
      "1.20.102.228:52036\n",
      "\n",
      "101.231.104.82:80\n",
      "\n",
      "101.109.107.154:8080\n",
      "\n",
      "1.4.223.222:8080\n",
      "\n",
      "102.176.160.29:34117\n",
      "\n",
      "1.175.134.50:3128\n",
      "\n",
      "103.129.152.142:8080\n",
      "\n",
      "103.111.31.210:8080\n",
      "\n",
      "1.10.180.227:8080\n",
      "\n",
      "103.194.192.42:40105\n",
      "\n",
      "1.52.155.137:8080\n",
      "\n",
      "101.99.45.154:8080\n",
      "\n",
      "101.50.1.2:80\n",
      "\n",
      "103.108.146.43:23500\n",
      "\n",
      "101.71.140.5:3128\n",
      "\n",
      "103.112.212.10:82\n",
      "\n",
      "1.174.75.93:53281\n",
      "\n",
      "1.179.206.201:47747\n",
      "\n",
      "103.196.211.102:23500\n",
      "\n",
      "1.20.207.165:8080\n",
      "\n",
      "103.199.12.30:8080\n",
      "\n",
      "1.20.97.173:46790\n",
      "\n",
      "101.255.40.18:59810\n",
      "\n",
      "103.109.57.161:8080\n",
      "\n",
      "101.109.255.243:35084\n",
      "\n",
      "103.109.57.1:8080\n",
      "\n",
      "101.109.255.253:58552\n",
      "\n",
      "101.4.136.34:81\n",
      "\n",
      "101.4.136.34:80\n",
      "\n"
     ]
    }
   ],
   "source": [
    "proxy_pool = cycle(proxies)\n",
    "\n",
    "for i in range(30):\n",
    "    proxy = next(proxy_pool)\n",
    "    print(proxy)"
   ]
  },
  {
   "cell_type": "code",
   "execution_count": 111,
   "metadata": {},
   "outputs": [
    {
     "name": "stdout",
     "output_type": "stream",
     "text": [
      "4\n"
     ]
    }
   ],
   "source": [
    "from random import randint\n",
    "print(randint(2, 5))"
   ]
  },
  {
   "cell_type": "code",
   "execution_count": null,
   "metadata": {},
   "outputs": [],
   "source": []
  },
  {
   "cell_type": "code",
   "execution_count": null,
   "metadata": {},
   "outputs": [],
   "source": []
  }
 ],
 "metadata": {
  "kernelspec": {
   "display_name": "Python 3",
   "language": "python",
   "name": "python3"
  },
  "language_info": {
   "codemirror_mode": {
    "name": "ipython",
    "version": 3
   },
   "file_extension": ".py",
   "mimetype": "text/x-python",
   "name": "python",
   "nbconvert_exporter": "python",
   "pygments_lexer": "ipython3",
   "version": "3.7.3"
  }
 },
 "nbformat": 4,
 "nbformat_minor": 2
}
