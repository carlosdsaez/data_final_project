{
 "cells": [
  {
   "cell_type": "code",
   "execution_count": 7,
   "metadata": {},
   "outputs": [],
   "source": [
    "import pandas as pd\n",
    "import numpy as np\n",
    "from pymongo import MongoClient\n",
    "import gmaps\n",
    "\n",
    "with open('../.env') as file:\n",
    "        key = file.read()\n",
    "#key = pd.read_csv('.env')\n",
    "gmaps.configure(api_key= key)\n",
    "\n",
    "client = MongoClient ('localhost', 27017)\n",
    "data = client['houses_final_project_data'].houses_madrid"
   ]
  },
  {
   "cell_type": "code",
   "execution_count": 20,
   "metadata": {},
   "outputs": [],
   "source": [
    "df = pd.read_csv('data_wrangled.csv')"
   ]
  },
  {
   "cell_type": "code",
   "execution_count": 21,
   "metadata": {},
   "outputs": [],
   "source": [
    "def get_near_houses(row):\n",
    "    nearLocation = {\n",
    "        \"lng\": row[\"longitude\"],\n",
    "        \"lat\": row[\"latitude\"]\n",
    "    }\n",
    "\n",
    "    adyacents = pd.DataFrame(data.find({\n",
    "        \"loc\": {\n",
    "         \"$near\": {\n",
    "           \"$geometry\": {\n",
    "              \"type\": \"Point\" ,\n",
    "               \"coordinates\": [ nearLocation[\"lng\"] , nearLocation[\"lat\"] ]\n",
    "              #\"coordinates\": [ nearLocation[\"lat\"] , nearLocation[\"lng\"] ]\n",
    "           },\n",
    "           \"$maxDistance\": 1000, # In meters\n",
    "         }\n",
    "       }\n",
    "    }))\n",
    "    \n",
    "    return adyacents"
   ]
  },
  {
   "cell_type": "code",
   "execution_count": 22,
   "metadata": {},
   "outputs": [],
   "source": [
    "df['loc'] = list(zip(df['longitude'], df['latitude']))\n",
    "df.to_json(\"data_wrangled_geo.json\", orient=\"records\", lines=True)"
   ]
  },
  {
   "cell_type": "code",
   "execution_count": 23,
   "metadata": {},
   "outputs": [],
   "source": [
    "df = pd.DataFrame(list(data.find({})))"
   ]
  },
  {
   "cell_type": "code",
   "execution_count": 24,
   "metadata": {},
   "outputs": [
    {
     "data": {
      "text/html": [
       "<div>\n",
       "<style scoped>\n",
       "    .dataframe tbody tr th:only-of-type {\n",
       "        vertical-align: middle;\n",
       "    }\n",
       "\n",
       "    .dataframe tbody tr th {\n",
       "        vertical-align: top;\n",
       "    }\n",
       "\n",
       "    .dataframe thead th {\n",
       "        text-align: right;\n",
       "    }\n",
       "</style>\n",
       "<table border=\"1\" class=\"dataframe\">\n",
       "  <thead>\n",
       "    <tr style=\"text-align: right;\">\n",
       "      <th></th>\n",
       "      <th>_id</th>\n",
       "      <th>bathrooms</th>\n",
       "      <th>floor</th>\n",
       "      <th>floor_was_missing</th>\n",
       "      <th>latitude</th>\n",
       "      <th>loc</th>\n",
       "      <th>longitude</th>\n",
       "      <th>price</th>\n",
       "      <th>price_cut</th>\n",
       "      <th>price_m2</th>\n",
       "      <th>rooms</th>\n",
       "      <th>size</th>\n",
       "    </tr>\n",
       "  </thead>\n",
       "  <tbody>\n",
       "    <tr>\n",
       "      <th>0</th>\n",
       "      <td>5cf945144b848f20aeda5f64</td>\n",
       "      <td>1</td>\n",
       "      <td>4.000000</td>\n",
       "      <td>False</td>\n",
       "      <td>40.430409</td>\n",
       "      <td>[-3.5578887, 40.4304094]</td>\n",
       "      <td>-3.557889</td>\n",
       "      <td>226000</td>\n",
       "      <td>(209000.0, 230000.0]</td>\n",
       "      <td>2897</td>\n",
       "      <td>2</td>\n",
       "      <td>78.0</td>\n",
       "    </tr>\n",
       "    <tr>\n",
       "      <th>1</th>\n",
       "      <td>5cf945144b848f20aeda5f65</td>\n",
       "      <td>1</td>\n",
       "      <td>0.000000</td>\n",
       "      <td>False</td>\n",
       "      <td>40.423733</td>\n",
       "      <td>[-3.5611868, 40.4237329]</td>\n",
       "      <td>-3.561187</td>\n",
       "      <td>98500</td>\n",
       "      <td>(93000.0, 110000.0]</td>\n",
       "      <td>1790</td>\n",
       "      <td>2</td>\n",
       "      <td>55.0</td>\n",
       "    </tr>\n",
       "    <tr>\n",
       "      <th>2</th>\n",
       "      <td>5cf945144b848f20aeda5f66</td>\n",
       "      <td>1</td>\n",
       "      <td>2.420332</td>\n",
       "      <td>True</td>\n",
       "      <td>40.430736</td>\n",
       "      <td>[-3.6350217, 40.4307359]</td>\n",
       "      <td>-3.635022</td>\n",
       "      <td>129000</td>\n",
       "      <td>(124000.0, 133900.0]</td>\n",
       "      <td>1842</td>\n",
       "      <td>3</td>\n",
       "      <td>70.0</td>\n",
       "    </tr>\n",
       "    <tr>\n",
       "      <th>3</th>\n",
       "      <td>5cf945144b848f20aeda5f67</td>\n",
       "      <td>1</td>\n",
       "      <td>2.420332</td>\n",
       "      <td>True</td>\n",
       "      <td>40.384267</td>\n",
       "      <td>[-3.6630031, 40.384267]</td>\n",
       "      <td>-3.663003</td>\n",
       "      <td>220000</td>\n",
       "      <td>(209000.0, 230000.0]</td>\n",
       "      <td>3098</td>\n",
       "      <td>3</td>\n",
       "      <td>71.0</td>\n",
       "    </tr>\n",
       "    <tr>\n",
       "      <th>4</th>\n",
       "      <td>5cf945144b848f20aeda5f68</td>\n",
       "      <td>1</td>\n",
       "      <td>0.000000</td>\n",
       "      <td>False</td>\n",
       "      <td>40.343037</td>\n",
       "      <td>[-3.7089705, 40.3430374]</td>\n",
       "      <td>-3.708970</td>\n",
       "      <td>148000</td>\n",
       "      <td>(143417.5, 155000.0]</td>\n",
       "      <td>2144</td>\n",
       "      <td>2</td>\n",
       "      <td>69.0</td>\n",
       "    </tr>\n",
       "  </tbody>\n",
       "</table>\n",
       "</div>"
      ],
      "text/plain": [
       "                        _id  bathrooms     floor  floor_was_missing  \\\n",
       "0  5cf945144b848f20aeda5f64          1  4.000000              False   \n",
       "1  5cf945144b848f20aeda5f65          1  0.000000              False   \n",
       "2  5cf945144b848f20aeda5f66          1  2.420332               True   \n",
       "3  5cf945144b848f20aeda5f67          1  2.420332               True   \n",
       "4  5cf945144b848f20aeda5f68          1  0.000000              False   \n",
       "\n",
       "    latitude                       loc  longitude   price  \\\n",
       "0  40.430409  [-3.5578887, 40.4304094]  -3.557889  226000   \n",
       "1  40.423733  [-3.5611868, 40.4237329]  -3.561187   98500   \n",
       "2  40.430736  [-3.6350217, 40.4307359]  -3.635022  129000   \n",
       "3  40.384267   [-3.6630031, 40.384267]  -3.663003  220000   \n",
       "4  40.343037  [-3.7089705, 40.3430374]  -3.708970  148000   \n",
       "\n",
       "              price_cut  price_m2  rooms  size  \n",
       "0  (209000.0, 230000.0]      2897      2  78.0  \n",
       "1   (93000.0, 110000.0]      1790      2  55.0  \n",
       "2  (124000.0, 133900.0]      1842      3  70.0  \n",
       "3  (209000.0, 230000.0]      3098      3  71.0  \n",
       "4  (143417.5, 155000.0]      2144      2  69.0  "
      ]
     },
     "execution_count": 24,
     "metadata": {},
     "output_type": "execute_result"
    }
   ],
   "source": [
    "df.head()"
   ]
  },
  {
   "cell_type": "code",
   "execution_count": 43,
   "metadata": {},
   "outputs": [],
   "source": [
    "def check_price_deviation(price, mean_price):\n",
    "    deviation = price / mean_price\n",
    "    if deviation > 1.2:\n",
    "        return 1.5\n",
    "    if deviation < 0.8:\n",
    "        return 0.5\n",
    "    else:\n",
    "        return 1"
   ]
  },
  {
   "cell_type": "code",
   "execution_count": 44,
   "metadata": {},
   "outputs": [],
   "source": [
    "def get_mean(series):\n",
    "    return series.mean()"
   ]
  },
  {
   "cell_type": "code",
   "execution_count": 45,
   "metadata": {},
   "outputs": [],
   "source": [
    "df['price_deviation'] = None\n",
    "for index, row in df.iterrows():\n",
    "    adyacents = get_near_houses(row)\n",
    "    #mean = get_mean(adyacents['price_m2'])\n",
    "    price_deviation = check_price_deviation(row['price_m2'], adyacents['price_m2'].mean())\n",
    "    df.loc[index, 'price_deviation'] = price_deviation"
   ]
  },
  {
   "cell_type": "code",
   "execution_count": 52,
   "metadata": {},
   "outputs": [
    {
     "data": {
      "application/vnd.jupyter.widget-view+json": {
       "model_id": "98b31212b89e4a359c01dbca4f7b0be0",
       "version_major": 2,
       "version_minor": 0
      },
      "text/plain": [
       "Figure(layout=FigureLayout(height='420px'))"
      ]
     },
     "metadata": {},
     "output_type": "display_data"
    }
   ],
   "source": [
    "fig = gmaps.figure()\n",
    "colors = ['red', 'green', 'blue']\n",
    "cheap = df[df['price_deviation'] == 0.5]\n",
    "medium = df[df['price_deviation'] == 1]\n",
    "expensive = df[df['price_deviation'] == 1.5]\n",
    "\n",
    "house_locs_cheap = cheap[['latitude', 'longitude']]\n",
    "house_locs_medium = medium[['latitude', 'longitude']]\n",
    "house_locs_expensive = expensive[['latitude', 'longitude']]\n",
    "\n",
    "symbols1 = gmaps.symbol_layer(house_locs_cheap, stroke_color= 'green')\n",
    "symbols2 = gmaps.symbol_layer(house_locs_medium, stroke_color= 'blue')\n",
    "symbols3 = gmaps.symbol_layer(house_locs_expensive, stroke_color= 'red')\n",
    "\n",
    "fig.add_layer(symbols1)\n",
    "fig.add_layer(symbols2)\n",
    "fig.add_layer(symbols3)\n",
    "fig"
   ]
  },
  {
   "cell_type": "code",
   "execution_count": null,
   "metadata": {},
   "outputs": [],
   "source": []
  }
 ],
 "metadata": {
  "kernelspec": {
   "display_name": "Python 3",
   "language": "python",
   "name": "python3"
  },
  "language_info": {
   "codemirror_mode": {
    "name": "ipython",
    "version": 3
   },
   "file_extension": ".py",
   "mimetype": "text/x-python",
   "name": "python",
   "nbconvert_exporter": "python",
   "pygments_lexer": "ipython3",
   "version": "3.7.3"
  }
 },
 "nbformat": 4,
 "nbformat_minor": 2
}
