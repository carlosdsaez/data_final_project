{
 "cells": [
  {
   "cell_type": "code",
   "execution_count": 1,
   "metadata": {},
   "outputs": [],
   "source": [
    "%matplotlib inline\n",
    "import pandas as pd\n",
    "import numpy as np\n",
    "from sklearn.impute import SimpleImputer\n",
    "import matplotlib\n",
    "import matplotlib.pyplot as plt\n",
    "import seaborn as sns\n",
    "import gmaps\n",
    "import ast\n",
    "with open('../.env', 'r') as f:\n",
    "    key = f.read()\n",
    "gmaps.configure(api_key= key)"
   ]
  },
  {
   "cell_type": "code",
   "execution_count": 2,
   "metadata": {},
   "outputs": [],
   "source": [
    "df = pd.read_csv('madrid_houses_raw.csv')"
   ]
  },
  {
   "cell_type": "code",
   "execution_count": 3,
   "metadata": {},
   "outputs": [
    {
     "data": {
      "text/plain": [
       "'Shape : (12455, 11)'"
      ]
     },
     "metadata": {},
     "output_type": "display_data"
    },
    {
     "data": {
      "text/html": [
       "<div>\n",
       "<style scoped>\n",
       "    .dataframe tbody tr th:only-of-type {\n",
       "        vertical-align: middle;\n",
       "    }\n",
       "\n",
       "    .dataframe tbody tr th {\n",
       "        vertical-align: top;\n",
       "    }\n",
       "\n",
       "    .dataframe thead th {\n",
       "        text-align: right;\n",
       "    }\n",
       "</style>\n",
       "<table border=\"1\" class=\"dataframe\">\n",
       "  <thead>\n",
       "    <tr style=\"text-align: right;\">\n",
       "      <th></th>\n",
       "      <th>bathrooms</th>\n",
       "      <th>description</th>\n",
       "      <th>floor</th>\n",
       "      <th>location1</th>\n",
       "      <th>location2</th>\n",
       "      <th>price</th>\n",
       "      <th>price_m2</th>\n",
       "      <th>rooms</th>\n",
       "      <th>size</th>\n",
       "      <th>location</th>\n",
       "      <th>position</th>\n",
       "    </tr>\n",
       "  </thead>\n",
       "  <tbody>\n",
       "    <tr>\n",
       "      <th>0</th>\n",
       "      <td>1.0</td>\n",
       "      <td>Coslada junto al recinto ferial. Vivienda de 7...</td>\n",
       "      <td>4ª</td>\n",
       "      <td>Recinto Ferial</td>\n",
       "      <td>Casco Antiguo (Coslada)</td>\n",
       "      <td>226.000</td>\n",
       "      <td>2.897</td>\n",
       "      <td>2.0</td>\n",
       "      <td>78.0</td>\n",
       "      <td>Recinto Ferial, Casco Antiguo (Coslada), Comun...</td>\n",
       "      <td>{'lat': 40.43040939999999, 'lng': -3.5578887}</td>\n",
       "    </tr>\n",
       "    <tr>\n",
       "      <th>1</th>\n",
       "      <td>1.0</td>\n",
       "      <td>Bajos de 2 dormitorios 50m2,  totalmente refor...</td>\n",
       "      <td>0</td>\n",
       "      <td>calle Isletas, nº 1</td>\n",
       "      <td>Zona Estación (Coslada)</td>\n",
       "      <td>98.500</td>\n",
       "      <td>1.790</td>\n",
       "      <td>2.0</td>\n",
       "      <td>55.0</td>\n",
       "      <td>calle Isletas, nº 1, Zona Estación (Coslada), ...</td>\n",
       "      <td>{'lat': 40.4237329, 'lng': -3.5611868}</td>\n",
       "    </tr>\n",
       "    <tr>\n",
       "      <th>2</th>\n",
       "      <td>1.0</td>\n",
       "      <td>Características del edificio:\\n\\n- Construido ...</td>\n",
       "      <td>NaN</td>\n",
       "      <td>calle Mazo, nº 6</td>\n",
       "      <td>Pueblo Nuevo (Distrito Ciudad Lineal. Madrid C...</td>\n",
       "      <td>129.000</td>\n",
       "      <td>1.842</td>\n",
       "      <td>3.0</td>\n",
       "      <td>70.0</td>\n",
       "      <td>calle Mazo, nº 6, Pueblo Nuevo (Distrito Ciuda...</td>\n",
       "      <td>{'lat': 40.43073589999999, 'lng': -3.6350217}</td>\n",
       "    </tr>\n",
       "    <tr>\n",
       "      <th>3</th>\n",
       "      <td>1.0</td>\n",
       "      <td>REF: 12130 Vivienda exterior localizada en una...</td>\n",
       "      <td>NaN</td>\n",
       "      <td>Vallecas</td>\n",
       "      <td>Palomeras Bajas (Distrito Puente de Vallecas. ...</td>\n",
       "      <td>220.000</td>\n",
       "      <td>3.098</td>\n",
       "      <td>3.0</td>\n",
       "      <td>71.0</td>\n",
       "      <td>Vallecas, Palomeras Bajas (Distrito Puente de ...</td>\n",
       "      <td>{'lat': 40.384267, 'lng': -3.6630031}</td>\n",
       "    </tr>\n",
       "    <tr>\n",
       "      <th>4</th>\n",
       "      <td>1.0</td>\n",
       "      <td>Excelente piso reformado en venta, de dos dorm...</td>\n",
       "      <td>0</td>\n",
       "      <td>calle Gomez Acebo</td>\n",
       "      <td>San Andrés (Distrito Villaverde. Madrid Capital)</td>\n",
       "      <td>148.000</td>\n",
       "      <td>2.144</td>\n",
       "      <td>2.0</td>\n",
       "      <td>69.0</td>\n",
       "      <td>calle Gomez Acebo, San Andrés (Distrito Villav...</td>\n",
       "      <td>{'lat': 40.3430374, 'lng': -3.7089705}</td>\n",
       "    </tr>\n",
       "    <tr>\n",
       "      <th>5</th>\n",
       "      <td>1.0</td>\n",
       "      <td>Tercera planta exterior con ascensor de 87 m2,...</td>\n",
       "      <td>NaN</td>\n",
       "      <td>calle Canarias</td>\n",
       "      <td>Palos de Moguer (Distrito Arganzuela. Madrid C...</td>\n",
       "      <td>300.000</td>\n",
       "      <td>3.448</td>\n",
       "      <td>3.0</td>\n",
       "      <td>87.0</td>\n",
       "      <td>calle Canarias, Palos de Moguer (Distrito Arga...</td>\n",
       "      <td>{'lat': 40.4018264, 'lng': -3.6923389}</td>\n",
       "    </tr>\n",
       "    <tr>\n",
       "      <th>6</th>\n",
       "      <td>1.0</td>\n",
       "      <td>Se vende piso en zona de calle Málaga, 85 metr...</td>\n",
       "      <td>NaN</td>\n",
       "      <td>Fuenlabrada - Centro</td>\n",
       "      <td>Avanzada-La Cueva (Fuenlabrada)</td>\n",
       "      <td>134.000</td>\n",
       "      <td>1.576</td>\n",
       "      <td>3.0</td>\n",
       "      <td>85.0</td>\n",
       "      <td>Fuenlabrada - Centro, Avanzada-La Cueva (Fuenl...</td>\n",
       "      <td>{'lat': 40.2930236, 'lng': -3.7857758}</td>\n",
       "    </tr>\n",
       "    <tr>\n",
       "      <th>7</th>\n",
       "      <td>2.0</td>\n",
       "      <td>INMOLINE, 91 616 32 20 y whatsapp 673 125 727:...</td>\n",
       "      <td>NaN</td>\n",
       "      <td>calle Alcalde Henche de La Plata</td>\n",
       "      <td>Sanchinarro (Distrito Hortaleza. Madrid Capital)</td>\n",
       "      <td>450.000</td>\n",
       "      <td>4.090</td>\n",
       "      <td>3.0</td>\n",
       "      <td>110.0</td>\n",
       "      <td>calle Alcalde Henche de La Plata, Sanchinarro ...</td>\n",
       "      <td>{'lat': 40.48866599999999, 'lng': -3.649591199...</td>\n",
       "    </tr>\n",
       "    <tr>\n",
       "      <th>8</th>\n",
       "      <td>2.0</td>\n",
       "      <td>SITUACION:\\n\\nLa vivienda se encuentra en la l...</td>\n",
       "      <td>NaN</td>\n",
       "      <td>calle Magnolias</td>\n",
       "      <td>Algete</td>\n",
       "      <td>166.990</td>\n",
       "      <td>2.036</td>\n",
       "      <td>2.0</td>\n",
       "      <td>82.0</td>\n",
       "      <td>calle Magnolias, Algete, Comunidad de Madrid, ...</td>\n",
       "      <td>{'lat': 40.5985993, 'lng': -3.5000946}</td>\n",
       "    </tr>\n",
       "    <tr>\n",
       "      <th>9</th>\n",
       "      <td>1.0</td>\n",
       "      <td>Vivienda en barrio de Lavapies. Ideal como inv...</td>\n",
       "      <td>0</td>\n",
       "      <td>calle Mesón de Paredes</td>\n",
       "      <td>Embajadores-Lavapiés (Distrito Centro. Madrid ...</td>\n",
       "      <td>140.000</td>\n",
       "      <td>4.000</td>\n",
       "      <td>2.0</td>\n",
       "      <td>35.0</td>\n",
       "      <td>calle Mesón de Paredes, Embajadores-Lavapiés (...</td>\n",
       "      <td>{'lat': 40.4087204, 'lng': -3.7033913}</td>\n",
       "    </tr>\n",
       "    <tr>\n",
       "      <th>10</th>\n",
       "      <td>1.0</td>\n",
       "      <td>Piso 1º Exterior con ascensor, de 64m2, para e...</td>\n",
       "      <td>NaN</td>\n",
       "      <td>calle Via Lusitana</td>\n",
       "      <td>Abrantes (Distrito Carabanchel. Madrid Capital)</td>\n",
       "      <td>119.900</td>\n",
       "      <td>1.873</td>\n",
       "      <td>3.0</td>\n",
       "      <td>64.0</td>\n",
       "      <td>calle Via Lusitana, Abrantes (Distrito Caraban...</td>\n",
       "      <td>{'lat': 40.3785062, 'lng': -3.727931899999999}</td>\n",
       "    </tr>\n",
       "    <tr>\n",
       "      <th>11</th>\n",
       "      <td>1.0</td>\n",
       "      <td>La vivienda se encuentra en la zona de Congost...</td>\n",
       "      <td>NaN</td>\n",
       "      <td>calle Congosto</td>\n",
       "      <td>Casco Histórico de Vallecas (Distrito Villa de...</td>\n",
       "      <td>212.100</td>\n",
       "      <td>3.030</td>\n",
       "      <td>2.0</td>\n",
       "      <td>70.0</td>\n",
       "      <td>calle Congosto, Casco Histórico de Vallecas (D...</td>\n",
       "      <td>{'lat': 40.3721629, 'lng': -3.6184403}</td>\n",
       "    </tr>\n",
       "    <tr>\n",
       "      <th>12</th>\n",
       "      <td>2.0</td>\n",
       "      <td>FICASA pone a la venta este magnífico piso sit...</td>\n",
       "      <td>2ª</td>\n",
       "      <td>calle Lavapies</td>\n",
       "      <td>Embajadores-Lavapiés (Distrito Centro. Madrid ...</td>\n",
       "      <td>243.000</td>\n",
       "      <td>3.738</td>\n",
       "      <td>3.0</td>\n",
       "      <td>65.0</td>\n",
       "      <td>calle Lavapies, Embajadores-Lavapiés (Distrito...</td>\n",
       "      <td>{'lat': 40.4105988, 'lng': -3.7026214}</td>\n",
       "    </tr>\n",
       "    <tr>\n",
       "      <th>13</th>\n",
       "      <td>1.0</td>\n",
       "      <td>Magnifico ático con bonitas vistas en el pau d...</td>\n",
       "      <td>7ª</td>\n",
       "      <td>calle del Palau de La Música, nº 6</td>\n",
       "      <td>Pau de Carabanchel (Distrito Carabanchel. Madr...</td>\n",
       "      <td>250.000</td>\n",
       "      <td>2.577</td>\n",
       "      <td>1.0</td>\n",
       "      <td>97.0</td>\n",
       "      <td>calle del Palau de La Música, nº 6, Pau de Car...</td>\n",
       "      <td>{'lat': 40.37294620000001, 'lng': -3.7388112}</td>\n",
       "    </tr>\n",
       "    <tr>\n",
       "      <th>14</th>\n",
       "      <td>2.0</td>\n",
       "      <td>Estupendo piso céntrico cerca del metro, const...</td>\n",
       "      <td>1ª</td>\n",
       "      <td>calle Huerta Chica</td>\n",
       "      <td>Centro (San Fernando de Henares)</td>\n",
       "      <td>154.000</td>\n",
       "      <td>2.200</td>\n",
       "      <td>3.0</td>\n",
       "      <td>70.0</td>\n",
       "      <td>calle Huerta Chica, Centro (San Fernando de He...</td>\n",
       "      <td>{'lat': 40.4270222, 'lng': -3.5362394}</td>\n",
       "    </tr>\n",
       "    <tr>\n",
       "      <th>15</th>\n",
       "      <td>1.0</td>\n",
       "      <td>Excelente piso de 80m próximo a Avenida España...</td>\n",
       "      <td>9ª</td>\n",
       "      <td>calle Prox. Avda. España, nº 00</td>\n",
       "      <td>Cerro-El Molino (Fuenlabrada)</td>\n",
       "      <td>133.500</td>\n",
       "      <td>1.668</td>\n",
       "      <td>3.0</td>\n",
       "      <td>80.0</td>\n",
       "      <td>calle Prox. Avda. España, nº 00, Cerro-El Moli...</td>\n",
       "      <td>{'lat': 40.2864475, 'lng': -3.8058734}</td>\n",
       "    </tr>\n",
       "    <tr>\n",
       "      <th>16</th>\n",
       "      <td>2.0</td>\n",
       "      <td>avaris, le ofrece este impresionante ático en ...</td>\n",
       "      <td>7ª</td>\n",
       "      <td>Lista</td>\n",
       "      <td>Lista (Distrito Salamanca. Madrid Capital)</td>\n",
       "      <td>1.195.000</td>\n",
       "      <td>7.468</td>\n",
       "      <td>3.0</td>\n",
       "      <td>160.0</td>\n",
       "      <td>Lista, Lista (Distrito Salamanca. Madrid Capit...</td>\n",
       "      <td>{'lat': 40.4312768, 'lng': -3.6769396}</td>\n",
       "    </tr>\n",
       "    <tr>\n",
       "      <th>17</th>\n",
       "      <td>1.0</td>\n",
       "      <td>ZARZAQUEMADA - Excelente vivienda situada en l...</td>\n",
       "      <td>6ª</td>\n",
       "      <td>calle Pedroches</td>\n",
       "      <td>Zarzaquemada-El Carrascal (Leganés)</td>\n",
       "      <td>159.900</td>\n",
       "      <td>2.050</td>\n",
       "      <td>3.0</td>\n",
       "      <td>78.0</td>\n",
       "      <td>calle Pedroches, Zarzaquemada-El Carrascal (Le...</td>\n",
       "      <td>{'lat': 40.3359563, 'lng': -3.7529466}</td>\n",
       "    </tr>\n",
       "    <tr>\n",
       "      <th>18</th>\n",
       "      <td>2.0</td>\n",
       "      <td>Piso en el Centro, junto a la plaza mayor, pis...</td>\n",
       "      <td>2ª</td>\n",
       "      <td>Zona Noroeste</td>\n",
       "      <td>Zona Noroeste (Torrejón de Ardoz)</td>\n",
       "      <td>147.900</td>\n",
       "      <td>1.740</td>\n",
       "      <td>2.0</td>\n",
       "      <td>85.0</td>\n",
       "      <td>Zona Noroeste, Zona Noroeste (Torrejón de Ardo...</td>\n",
       "      <td>{'lat': 40.4717686, 'lng': -3.719269}</td>\n",
       "    </tr>\n",
       "    <tr>\n",
       "      <th>19</th>\n",
       "      <td>1.0</td>\n",
       "      <td>Gespain las águilas - carabanchel promociona v...</td>\n",
       "      <td>1ª</td>\n",
       "      <td>calle Jose de Cadalso</td>\n",
       "      <td>Las Águilas (Distrito Latina. Madrid Capital)</td>\n",
       "      <td>139.000</td>\n",
       "      <td>2.044</td>\n",
       "      <td>3.0</td>\n",
       "      <td>68.0</td>\n",
       "      <td>calle Jose de Cadalso, Las Águilas (Distrito L...</td>\n",
       "      <td>{'lat': 40.3792242, 'lng': -3.7697731}</td>\n",
       "    </tr>\n",
       "  </tbody>\n",
       "</table>\n",
       "</div>"
      ],
      "text/plain": [
       "    bathrooms                                        description floor  \\\n",
       "0         1.0  Coslada junto al recinto ferial. Vivienda de 7...    4ª   \n",
       "1         1.0  Bajos de 2 dormitorios 50m2,  totalmente refor...     0   \n",
       "2         1.0  Características del edificio:\\n\\n- Construido ...   NaN   \n",
       "3         1.0  REF: 12130 Vivienda exterior localizada en una...   NaN   \n",
       "4         1.0  Excelente piso reformado en venta, de dos dorm...     0   \n",
       "5         1.0  Tercera planta exterior con ascensor de 87 m2,...   NaN   \n",
       "6         1.0  Se vende piso en zona de calle Málaga, 85 metr...   NaN   \n",
       "7         2.0  INMOLINE, 91 616 32 20 y whatsapp 673 125 727:...   NaN   \n",
       "8         2.0  SITUACION:\\n\\nLa vivienda se encuentra en la l...   NaN   \n",
       "9         1.0  Vivienda en barrio de Lavapies. Ideal como inv...     0   \n",
       "10        1.0  Piso 1º Exterior con ascensor, de 64m2, para e...   NaN   \n",
       "11        1.0  La vivienda se encuentra en la zona de Congost...   NaN   \n",
       "12        2.0  FICASA pone a la venta este magnífico piso sit...    2ª   \n",
       "13        1.0  Magnifico ático con bonitas vistas en el pau d...    7ª   \n",
       "14        2.0  Estupendo piso céntrico cerca del metro, const...    1ª   \n",
       "15        1.0  Excelente piso de 80m próximo a Avenida España...    9ª   \n",
       "16        2.0  avaris, le ofrece este impresionante ático en ...    7ª   \n",
       "17        1.0  ZARZAQUEMADA - Excelente vivienda situada en l...    6ª   \n",
       "18        2.0  Piso en el Centro, junto a la plaza mayor, pis...    2ª   \n",
       "19        1.0  Gespain las águilas - carabanchel promociona v...    1ª   \n",
       "\n",
       "                             location1  \\\n",
       "0                       Recinto Ferial   \n",
       "1                  calle Isletas, nº 1   \n",
       "2                     calle Mazo, nº 6   \n",
       "3                             Vallecas   \n",
       "4                    calle Gomez Acebo   \n",
       "5                       calle Canarias   \n",
       "6                 Fuenlabrada - Centro   \n",
       "7     calle Alcalde Henche de La Plata   \n",
       "8                      calle Magnolias   \n",
       "9               calle Mesón de Paredes   \n",
       "10                  calle Via Lusitana   \n",
       "11                      calle Congosto   \n",
       "12                      calle Lavapies   \n",
       "13  calle del Palau de La Música, nº 6   \n",
       "14                  calle Huerta Chica   \n",
       "15     calle Prox. Avda. España, nº 00   \n",
       "16                               Lista   \n",
       "17                     calle Pedroches   \n",
       "18                       Zona Noroeste   \n",
       "19               calle Jose de Cadalso   \n",
       "\n",
       "                                            location2      price  price_m2  \\\n",
       "0                             Casco Antiguo (Coslada)    226.000     2.897   \n",
       "1                             Zona Estación (Coslada)     98.500     1.790   \n",
       "2   Pueblo Nuevo (Distrito Ciudad Lineal. Madrid C...    129.000     1.842   \n",
       "3   Palomeras Bajas (Distrito Puente de Vallecas. ...    220.000     3.098   \n",
       "4    San Andrés (Distrito Villaverde. Madrid Capital)    148.000     2.144   \n",
       "5   Palos de Moguer (Distrito Arganzuela. Madrid C...    300.000     3.448   \n",
       "6                     Avanzada-La Cueva (Fuenlabrada)    134.000     1.576   \n",
       "7    Sanchinarro (Distrito Hortaleza. Madrid Capital)    450.000     4.090   \n",
       "8                                              Algete    166.990     2.036   \n",
       "9   Embajadores-Lavapiés (Distrito Centro. Madrid ...    140.000     4.000   \n",
       "10    Abrantes (Distrito Carabanchel. Madrid Capital)    119.900     1.873   \n",
       "11  Casco Histórico de Vallecas (Distrito Villa de...    212.100     3.030   \n",
       "12  Embajadores-Lavapiés (Distrito Centro. Madrid ...    243.000     3.738   \n",
       "13  Pau de Carabanchel (Distrito Carabanchel. Madr...    250.000     2.577   \n",
       "14                   Centro (San Fernando de Henares)    154.000     2.200   \n",
       "15                      Cerro-El Molino (Fuenlabrada)    133.500     1.668   \n",
       "16         Lista (Distrito Salamanca. Madrid Capital)  1.195.000     7.468   \n",
       "17                Zarzaquemada-El Carrascal (Leganés)    159.900     2.050   \n",
       "18                  Zona Noroeste (Torrejón de Ardoz)    147.900     1.740   \n",
       "19      Las Águilas (Distrito Latina. Madrid Capital)    139.000     2.044   \n",
       "\n",
       "    rooms   size                                           location  \\\n",
       "0     2.0   78.0  Recinto Ferial, Casco Antiguo (Coslada), Comun...   \n",
       "1     2.0   55.0  calle Isletas, nº 1, Zona Estación (Coslada), ...   \n",
       "2     3.0   70.0  calle Mazo, nº 6, Pueblo Nuevo (Distrito Ciuda...   \n",
       "3     3.0   71.0  Vallecas, Palomeras Bajas (Distrito Puente de ...   \n",
       "4     2.0   69.0  calle Gomez Acebo, San Andrés (Distrito Villav...   \n",
       "5     3.0   87.0  calle Canarias, Palos de Moguer (Distrito Arga...   \n",
       "6     3.0   85.0  Fuenlabrada - Centro, Avanzada-La Cueva (Fuenl...   \n",
       "7     3.0  110.0  calle Alcalde Henche de La Plata, Sanchinarro ...   \n",
       "8     2.0   82.0  calle Magnolias, Algete, Comunidad de Madrid, ...   \n",
       "9     2.0   35.0  calle Mesón de Paredes, Embajadores-Lavapiés (...   \n",
       "10    3.0   64.0  calle Via Lusitana, Abrantes (Distrito Caraban...   \n",
       "11    2.0   70.0  calle Congosto, Casco Histórico de Vallecas (D...   \n",
       "12    3.0   65.0  calle Lavapies, Embajadores-Lavapiés (Distrito...   \n",
       "13    1.0   97.0  calle del Palau de La Música, nº 6, Pau de Car...   \n",
       "14    3.0   70.0  calle Huerta Chica, Centro (San Fernando de He...   \n",
       "15    3.0   80.0  calle Prox. Avda. España, nº 00, Cerro-El Moli...   \n",
       "16    3.0  160.0  Lista, Lista (Distrito Salamanca. Madrid Capit...   \n",
       "17    3.0   78.0  calle Pedroches, Zarzaquemada-El Carrascal (Le...   \n",
       "18    2.0   85.0  Zona Noroeste, Zona Noroeste (Torrejón de Ardo...   \n",
       "19    3.0   68.0  calle Jose de Cadalso, Las Águilas (Distrito L...   \n",
       "\n",
       "                                             position  \n",
       "0       {'lat': 40.43040939999999, 'lng': -3.5578887}  \n",
       "1              {'lat': 40.4237329, 'lng': -3.5611868}  \n",
       "2       {'lat': 40.43073589999999, 'lng': -3.6350217}  \n",
       "3               {'lat': 40.384267, 'lng': -3.6630031}  \n",
       "4              {'lat': 40.3430374, 'lng': -3.7089705}  \n",
       "5              {'lat': 40.4018264, 'lng': -3.6923389}  \n",
       "6              {'lat': 40.2930236, 'lng': -3.7857758}  \n",
       "7   {'lat': 40.48866599999999, 'lng': -3.649591199...  \n",
       "8              {'lat': 40.5985993, 'lng': -3.5000946}  \n",
       "9              {'lat': 40.4087204, 'lng': -3.7033913}  \n",
       "10     {'lat': 40.3785062, 'lng': -3.727931899999999}  \n",
       "11             {'lat': 40.3721629, 'lng': -3.6184403}  \n",
       "12             {'lat': 40.4105988, 'lng': -3.7026214}  \n",
       "13      {'lat': 40.37294620000001, 'lng': -3.7388112}  \n",
       "14             {'lat': 40.4270222, 'lng': -3.5362394}  \n",
       "15             {'lat': 40.2864475, 'lng': -3.8058734}  \n",
       "16             {'lat': 40.4312768, 'lng': -3.6769396}  \n",
       "17             {'lat': 40.3359563, 'lng': -3.7529466}  \n",
       "18              {'lat': 40.4717686, 'lng': -3.719269}  \n",
       "19             {'lat': 40.3792242, 'lng': -3.7697731}  "
      ]
     },
     "metadata": {},
     "output_type": "display_data"
    },
    {
     "data": {
      "text/plain": [
       "bathrooms      float64\n",
       "description     object\n",
       "floor           object\n",
       "location1       object\n",
       "location2       object\n",
       "price           object\n",
       "price_m2       float64\n",
       "rooms          float64\n",
       "size           float64\n",
       "location        object\n",
       "position        object\n",
       "dtype: object"
      ]
     },
     "metadata": {},
     "output_type": "display_data"
    },
    {
     "data": {
      "text/plain": [
       "bathrooms       100\n",
       "description      35\n",
       "floor          4831\n",
       "location1         0\n",
       "location2         0\n",
       "price             0\n",
       "price_m2        345\n",
       "rooms           187\n",
       "size            225\n",
       "location          0\n",
       "position         32\n",
       "dtype: int64"
      ]
     },
     "metadata": {},
     "output_type": "display_data"
    },
    {
     "data": {
      "text/plain": [
       "'Número de filas con nulos: '"
      ]
     },
     "metadata": {},
     "output_type": "display_data"
    },
    {
     "data": {
      "text/plain": [
       "5164"
      ]
     },
     "metadata": {},
     "output_type": "display_data"
    }
   ],
   "source": [
    "display(\"Shape : {}\".format(df.shape))\n",
    "display(df.head(20))\n",
    "display(df.dtypes)\n",
    "display(df.isnull().sum())\n",
    "any_null_rows = df.isnull().any(axis=1)\n",
    "display('Número de filas con nulos: ', len(df[any_null_rows]))"
   ]
  },
  {
   "cell_type": "markdown",
   "metadata": {},
   "source": [
    "Se eliminan en primer lugar las columnas que no nos vayan a servir: Description, location1, location2:"
   ]
  },
  {
   "cell_type": "code",
   "execution_count": 4,
   "metadata": {},
   "outputs": [],
   "source": [
    "df.drop(['description', 'location1', 'location2', 'location'], axis = 1, inplace = True)"
   ]
  },
  {
   "cell_type": "markdown",
   "metadata": {},
   "source": [
    "Se observa que la columna de \"Price\" es de tipo\"object\" en lugar de numérica, y que la columna price_m2 no está en el orden de\n",
    "magnitud correcto. Se corrige:"
   ]
  },
  {
   "cell_type": "code",
   "execution_count": 5,
   "metadata": {},
   "outputs": [],
   "source": [
    "df['price'] = df['price'].apply(lambda x: x.replace('.', ''))\n",
    "df['price'] = pd.to_numeric(df['price'], errors = 'coerce')\n",
    "df['price_m2'] = df['price_m2'] * 1000"
   ]
  },
  {
   "cell_type": "markdown",
   "metadata": {},
   "source": [
    "La columna de 'floor' tampoco es numérica porque las plantas están expresadas como tipo string. Por tanto en primer lugar se eliminan los caracteres de texto y a continuación se convierte en numérica."
   ]
  },
  {
   "cell_type": "code",
   "execution_count": 6,
   "metadata": {},
   "outputs": [
    {
     "data": {
      "text/plain": [
       "array(['4ª', '0', nan, '2ª', '7ª', '1ª', '9ª', '6ª', '3ª', '5ª', '8ª',\n",
       "       'planta'], dtype=object)"
      ]
     },
     "metadata": {},
     "output_type": "display_data"
    }
   ],
   "source": [
    "df.head(30)\n",
    "display(df['floor'].unique())"
   ]
  },
  {
   "cell_type": "code",
   "execution_count": 7,
   "metadata": {},
   "outputs": [],
   "source": [
    "df['floor'] = df['floor'].apply(lambda x: x.replace('ª', '') if type(x) is str else x)"
   ]
  },
  {
   "cell_type": "code",
   "execution_count": 8,
   "metadata": {},
   "outputs": [
    {
     "data": {
      "text/plain": [
       "array(['4', '0', nan, '2', '7', '1', '9', '6', '3', '5', '8', 'planta'],\n",
       "      dtype=object)"
      ]
     },
     "metadata": {},
     "output_type": "display_data"
    }
   ],
   "source": [
    "df.head(10)\n",
    "display(df['floor'].unique())"
   ]
  },
  {
   "cell_type": "code",
   "execution_count": 9,
   "metadata": {},
   "outputs": [],
   "source": [
    "df['floor'] = pd.to_numeric(df['floor'], errors = 'coerce')"
   ]
  },
  {
   "cell_type": "markdown",
   "metadata": {},
   "source": [
    "Extraemos la latitud y longitud y las guardarmos en dos columnas. Se elimina la columna 'position'"
   ]
  },
  {
   "cell_type": "code",
   "execution_count": 10,
   "metadata": {},
   "outputs": [],
   "source": [
    "def convert_str_to_dict(x):\n",
    "    try:\n",
    "        return ast.literal_eval(x)\n",
    "    except:\n",
    "        return None\n",
    "\n",
    "df['position'] = df['position'].apply(convert_str_to_dict)\n",
    "df.loc[:,'latitude'] = df['position'].apply(lambda x: x.get('lat') if x is not None else None)\n",
    "df.loc[:,'longitude'] = df['position'].apply(lambda x: x.get('lng') if x is not None else None)\n",
    "df.drop(['position'], axis = 1, inplace = True)"
   ]
  },
  {
   "cell_type": "markdown",
   "metadata": {},
   "source": [
    "Comprobamos los valores nulos:"
   ]
  },
  {
   "cell_type": "code",
   "execution_count": 11,
   "metadata": {},
   "outputs": [
    {
     "data": {
      "text/plain": [
       "bathrooms     100\n",
       "floor        4904\n",
       "price         130\n",
       "price_m2      345\n",
       "rooms         187\n",
       "size          225\n",
       "latitude       32\n",
       "longitude      32\n",
       "dtype: int64"
      ]
     },
     "metadata": {},
     "output_type": "display_data"
    }
   ],
   "source": [
    "nulls = df.isnull().sum()\n",
    "nulls = nulls[nulls > 0]\n",
    "display(nulls)"
   ]
  },
  {
   "cell_type": "markdown",
   "metadata": {},
   "source": [
    "Rellenamos los valores nulos:"
   ]
  },
  {
   "cell_type": "markdown",
   "metadata": {},
   "source": [
    "En primer lugar seleccionamos las filas que dispongan de:\n",
    "- Precio y superficie\n",
    "- superficie y precio por metro cuatrado"
   ]
  },
  {
   "cell_type": "code",
   "execution_count": 12,
   "metadata": {},
   "outputs": [],
   "source": [
    "df = df[(df['price'].notnull() & df['size'].notnull()) | (df['price_m2'].notnull() & df['size'].notnull())]"
   ]
  },
  {
   "cell_type": "markdown",
   "metadata": {},
   "source": [
    "Comprobamos nuevamente los valores nulos y vemos que solo se dan para las columnas 'bathrooms', 'floor', 'rooms, 'latitude' y longitude'.\n",
    "\n",
    "Para 'bathrooms', al ser un número de nulos muy elevado, completamos utilizando el valor medio. Antes de completar los nulos, ñadimos una columna indicador de si el valor estaba presente o no, de forma que el modelo pueda disponer de más información.\n",
    "\n",
    "Para 'rooms', 'bathrooms', 'latitude' y 'longitude', eliminamos las filas al ser un valor reducido."
   ]
  },
  {
   "cell_type": "code",
   "execution_count": 13,
   "metadata": {},
   "outputs": [],
   "source": [
    "df = df[df['bathrooms'].notnull() & df['rooms'].notnull() & df['latitude'].notnull() & df['longitude'].notnull()]"
   ]
  },
  {
   "cell_type": "code",
   "execution_count": 14,
   "metadata": {},
   "outputs": [],
   "source": [
    "df['floor_was_missing'] = df['floor'].isnull()\n",
    "df['floor'] = df['floor'].fillna(df['floor'].mean())"
   ]
  },
  {
   "cell_type": "markdown",
   "metadata": {},
   "source": [
    "Para verificar la posición de los datos, representamos su ubicación en un mapa."
   ]
  },
  {
   "cell_type": "code",
   "execution_count": 15,
   "metadata": {},
   "outputs": [
    {
     "data": {
      "application/vnd.jupyter.widget-view+json": {
       "model_id": "f524483be23d45e59123493fde4b9fb5",
       "version_major": 2,
       "version_minor": 0
      },
      "text/plain": [
       "Figure(layout=FigureLayout(height='420px'))"
      ]
     },
     "metadata": {},
     "output_type": "display_data"
    }
   ],
   "source": [
    "fig = gmaps.figure(map_type='SATELLITE')\n",
    "data_loc = df[['latitude', 'longitude']]\n",
    "heatmap_layer = gmaps.heatmap_layer(data_loc)\n",
    "fig.add_layer(heatmap_layer)\n",
    "fig"
   ]
  },
  {
   "cell_type": "markdown",
   "metadata": {},
   "source": [
    "Se observa que la mayoría de los valores están ubicados en Madrid de forma correcta, pero en un ánalisis de Tableau se observan muchos puntos en otros países. Para realizar una medida exacta, filtraremos por valores de coordenadas, asignando valores nulos a los puntos que estén fuera de la comunidad de Madrid:\n",
    "- Rango de latitudes : [40.03, 41.08]\n",
    "- Rango de longitudes : [-4.5, -3.5]"
   ]
  },
  {
   "cell_type": "code",
   "execution_count": 16,
   "metadata": {},
   "outputs": [],
   "source": [
    "madrid_data = df[(df['latitude'] > 40.03) & (df['latitude'] < 41.08) & \\\n",
    "                 (df['longitude'] > -4.5) & (df['longitude'] < -3.5)]"
   ]
  },
  {
   "cell_type": "code",
   "execution_count": 17,
   "metadata": {},
   "outputs": [],
   "source": [
    "df = df.reset_index()\n",
    "rows_to_convert = df[(df['latitude'] < 39.9) | (df['latitude'] > 41.16) | \\\n",
    "                 (df['longitude'] < -4.57) | (df['longitude'] > -3.06)].index"
   ]
  },
  {
   "cell_type": "code",
   "execution_count": 18,
   "metadata": {},
   "outputs": [],
   "source": [
    "df.loc[df.index.isin(rows_to_convert), ['latitude', 'longitude']] = None"
   ]
  },
  {
   "cell_type": "code",
   "execution_count": 19,
   "metadata": {},
   "outputs": [],
   "source": [
    "df['price_cut'] = pd.qcut(df.price,20)"
   ]
  },
  {
   "cell_type": "code",
   "execution_count": 20,
   "metadata": {},
   "outputs": [],
   "source": [
    "df['latitude'] = df.groupby(['price_cut'])['latitude'].transform(lambda x : x.fillna(x.mean()))"
   ]
  },
  {
   "cell_type": "code",
   "execution_count": 21,
   "metadata": {},
   "outputs": [],
   "source": [
    "df['longitude'] = df.groupby(['price_cut'])['longitude'].transform(lambda x : x.fillna(x.mean()))"
   ]
  },
  {
   "cell_type": "code",
   "execution_count": 22,
   "metadata": {},
   "outputs": [],
   "source": [
    "df = df.drop_duplicates()\n",
    "df.drop('index', axis = 1, inplace = True)"
   ]
  },
  {
   "cell_type": "markdown",
   "metadata": {},
   "source": [
    "Visualizamos los resultados en un mapa:"
   ]
  },
  {
   "cell_type": "code",
   "execution_count": null,
   "metadata": {},
   "outputs": [],
   "source": [
    "data_loc = df[['latitude', 'longitude']]\n",
    "\n",
    "houses_layer = gmaps.symbol_layer(\n",
    "    data_loc, fill_color=\"green\", stroke_color=\"red\", scale=2\n",
    ")\n",
    "\n",
    "fig = gmaps.figure()\n",
    "fig.add_layer(houses_layer)\n",
    "display(fig)"
   ]
  },
  {
   "cell_type": "markdown",
   "metadata": {},
   "source": [
    "Para finalizar, pintamos la matriz de correlación para comprobar que no exiten alta colinealidad entre dos columnas"
   ]
  },
  {
   "cell_type": "code",
   "execution_count": null,
   "metadata": {},
   "outputs": [],
   "source": [
    "corr_matrix = df.corr()\n",
    "plt.figure(figsize=(12,7))\n",
    "sns.heatmap(corr_matrix, annot = True, linewidth = 0.5)"
   ]
  },
  {
   "cell_type": "code",
   "execution_count": null,
   "metadata": {},
   "outputs": [],
   "source": [
    "df = df.drop_duplicates()\n",
    "df.to_csv('data_wrangled.csv', index = None)"
   ]
  },
  {
   "cell_type": "code",
   "execution_count": null,
   "metadata": {},
   "outputs": [],
   "source": []
  }
 ],
 "metadata": {
  "kernelspec": {
   "display_name": "Python 3",
   "language": "python",
   "name": "python3"
  },
  "language_info": {
   "codemirror_mode": {
    "name": "ipython",
    "version": 3
   },
   "file_extension": ".py",
   "mimetype": "text/x-python",
   "name": "python",
   "nbconvert_exporter": "python",
   "pygments_lexer": "ipython3",
   "version": "3.7.3"
  }
 },
 "nbformat": 4,
 "nbformat_minor": 2
}
